{
 "cells": [
  {
   "cell_type": "code",
   "id": "initial_id",
   "metadata": {
    "collapsed": true,
    "ExecuteTime": {
     "end_time": "2024-12-14T15:13:18.415856Z",
     "start_time": "2024-12-14T15:13:18.411527Z"
    }
   },
   "source": "import pandas as pd",
   "outputs": [],
   "execution_count": 1
  },
  {
   "metadata": {
    "ExecuteTime": {
     "end_time": "2024-12-14T15:13:31.675464Z",
     "start_time": "2024-12-14T15:13:31.643484Z"
    }
   },
   "cell_type": "code",
   "source": [
    "def load_data(fname):\n",
    "    \"\"\"\n",
    "    This function loads the data from the csv file \n",
    "    and convert it into a pandas dataframe.\n",
    "\n",
    "    Parameters\n",
    "    ----------- \n",
    "    fname : string \n",
    "        location of the csv file \n",
    "    \n",
    "    Returns\n",
    "    ------- \n",
    "    dataframe : DataFrame\n",
    "        loaded data in pandas dataframe format\n",
    "    \"\"\"\n",
    "    dataframe = pd.read_csv(fname)\n",
    "    print(f\"Data Shape: {dataframe.shape}\")\n",
    "    return dataframe"
   ],
   "id": "8a42b8f68855ba13",
   "outputs": [],
   "execution_count": 2
  },
  {
   "metadata": {
    "ExecuteTime": {
     "end_time": "2024-12-14T15:13:32.928661Z",
     "start_time": "2024-12-14T15:13:32.890980Z"
    }
   },
   "cell_type": "code",
   "source": "fname = load_data(\"data/raw/credit_risk_dataset.csv\")",
   "id": "501f64b46d63ac44",
   "outputs": [
    {
     "name": "stdout",
     "output_type": "stream",
     "text": [
      "Data Shape: (32581, 12)\n"
     ]
    }
   ],
   "execution_count": 3
  },
  {
   "metadata": {
    "ExecuteTime": {
     "end_time": "2024-12-14T15:13:34.323237Z",
     "start_time": "2024-12-14T15:13:34.213538Z"
    }
   },
   "cell_type": "code",
   "source": "fname.head()",
   "id": "8570fd1218c35548",
   "outputs": [
    {
     "data": {
      "text/plain": [
       "   person_age  person_income person_home_ownership  person_emp_length  \\\n",
       "0          22          59000                  RENT              123.0   \n",
       "1          21           9600                   OWN                5.0   \n",
       "2          25           9600              MORTGAGE                1.0   \n",
       "3          23          65500                  RENT                4.0   \n",
       "4          24          54400                  RENT                8.0   \n",
       "\n",
       "  loan_intent loan_grade  loan_amnt  loan_int_rate  loan_status  \\\n",
       "0    PERSONAL          D      35000          16.02            1   \n",
       "1   EDUCATION          B       1000          11.14            0   \n",
       "2     MEDICAL          C       5500          12.87            1   \n",
       "3     MEDICAL          C      35000          15.23            1   \n",
       "4     MEDICAL          C      35000          14.27            1   \n",
       "\n",
       "   loan_percent_income cb_person_default_on_file  cb_person_cred_hist_length  \n",
       "0                 0.59                         Y                           3  \n",
       "1                 0.10                         N                           2  \n",
       "2                 0.57                         N                           3  \n",
       "3                 0.53                         N                           2  \n",
       "4                 0.55                         Y                           4  "
      ],
      "text/html": [
       "<div>\n",
       "<style scoped>\n",
       "    .dataframe tbody tr th:only-of-type {\n",
       "        vertical-align: middle;\n",
       "    }\n",
       "\n",
       "    .dataframe tbody tr th {\n",
       "        vertical-align: top;\n",
       "    }\n",
       "\n",
       "    .dataframe thead th {\n",
       "        text-align: right;\n",
       "    }\n",
       "</style>\n",
       "<table border=\"1\" class=\"dataframe\">\n",
       "  <thead>\n",
       "    <tr style=\"text-align: right;\">\n",
       "      <th></th>\n",
       "      <th>person_age</th>\n",
       "      <th>person_income</th>\n",
       "      <th>person_home_ownership</th>\n",
       "      <th>person_emp_length</th>\n",
       "      <th>loan_intent</th>\n",
       "      <th>loan_grade</th>\n",
       "      <th>loan_amnt</th>\n",
       "      <th>loan_int_rate</th>\n",
       "      <th>loan_status</th>\n",
       "      <th>loan_percent_income</th>\n",
       "      <th>cb_person_default_on_file</th>\n",
       "      <th>cb_person_cred_hist_length</th>\n",
       "    </tr>\n",
       "  </thead>\n",
       "  <tbody>\n",
       "    <tr>\n",
       "      <th>0</th>\n",
       "      <td>22</td>\n",
       "      <td>59000</td>\n",
       "      <td>RENT</td>\n",
       "      <td>123.0</td>\n",
       "      <td>PERSONAL</td>\n",
       "      <td>D</td>\n",
       "      <td>35000</td>\n",
       "      <td>16.02</td>\n",
       "      <td>1</td>\n",
       "      <td>0.59</td>\n",
       "      <td>Y</td>\n",
       "      <td>3</td>\n",
       "    </tr>\n",
       "    <tr>\n",
       "      <th>1</th>\n",
       "      <td>21</td>\n",
       "      <td>9600</td>\n",
       "      <td>OWN</td>\n",
       "      <td>5.0</td>\n",
       "      <td>EDUCATION</td>\n",
       "      <td>B</td>\n",
       "      <td>1000</td>\n",
       "      <td>11.14</td>\n",
       "      <td>0</td>\n",
       "      <td>0.10</td>\n",
       "      <td>N</td>\n",
       "      <td>2</td>\n",
       "    </tr>\n",
       "    <tr>\n",
       "      <th>2</th>\n",
       "      <td>25</td>\n",
       "      <td>9600</td>\n",
       "      <td>MORTGAGE</td>\n",
       "      <td>1.0</td>\n",
       "      <td>MEDICAL</td>\n",
       "      <td>C</td>\n",
       "      <td>5500</td>\n",
       "      <td>12.87</td>\n",
       "      <td>1</td>\n",
       "      <td>0.57</td>\n",
       "      <td>N</td>\n",
       "      <td>3</td>\n",
       "    </tr>\n",
       "    <tr>\n",
       "      <th>3</th>\n",
       "      <td>23</td>\n",
       "      <td>65500</td>\n",
       "      <td>RENT</td>\n",
       "      <td>4.0</td>\n",
       "      <td>MEDICAL</td>\n",
       "      <td>C</td>\n",
       "      <td>35000</td>\n",
       "      <td>15.23</td>\n",
       "      <td>1</td>\n",
       "      <td>0.53</td>\n",
       "      <td>N</td>\n",
       "      <td>2</td>\n",
       "    </tr>\n",
       "    <tr>\n",
       "      <th>4</th>\n",
       "      <td>24</td>\n",
       "      <td>54400</td>\n",
       "      <td>RENT</td>\n",
       "      <td>8.0</td>\n",
       "      <td>MEDICAL</td>\n",
       "      <td>C</td>\n",
       "      <td>35000</td>\n",
       "      <td>14.27</td>\n",
       "      <td>1</td>\n",
       "      <td>0.55</td>\n",
       "      <td>Y</td>\n",
       "      <td>4</td>\n",
       "    </tr>\n",
       "  </tbody>\n",
       "</table>\n",
       "</div>"
      ]
     },
     "execution_count": 4,
     "metadata": {},
     "output_type": "execute_result"
    }
   ],
   "execution_count": 4
  },
  {
   "metadata": {
    "ExecuteTime": {
     "end_time": "2024-12-14T15:13:39.619445Z",
     "start_time": "2024-12-14T15:13:39.615548Z"
    }
   },
   "cell_type": "code",
   "source": [
    "def split_input_output(data, target_col):\n",
    "    \"\"\"\n",
    "    This function splits the data into input \n",
    "    and output based on the target column.\n",
    "    \n",
    "    Parameters\n",
    "    ----------\n",
    "    data: DataFrame \n",
    "        data to be split \n",
    "\n",
    "    target_col: str\n",
    "        name of the target column   \n",
    "\n",
    "    Returns\n",
    "    --------\n",
    "    X : DataFrame\n",
    "        feature of dataset, \n",
    "    \n",
    "    y : Dataframe\n",
    "        column target of dataset\n",
    "    \"\"\"\n",
    "    y = data[target_col]\n",
    "    X = data.drop(target_col, axis=1)\n",
    "    print(f\"Original data shape: {data.shape}\")\n",
    "    print(f\"X data shape: {X.shape}\")\n",
    "    print(f\"y data shape: {y.shape}\")\n",
    "    return X, y"
   ],
   "id": "5fe4c5af52951de5",
   "outputs": [],
   "execution_count": 5
  },
  {
   "metadata": {
    "ExecuteTime": {
     "end_time": "2024-12-14T15:13:42.116407Z",
     "start_time": "2024-12-14T15:13:42.109574Z"
    }
   },
   "cell_type": "code",
   "source": [
    "target_col = \"loan_status\"\n",
    "X, y = split_input_output(fname, target_col)"
   ],
   "id": "538b5a3ddb3a0973",
   "outputs": [
    {
     "name": "stdout",
     "output_type": "stream",
     "text": [
      "Original data shape: (32581, 12)\n",
      "X data shape: (32581, 11)\n",
      "y data shape: (32581,)\n"
     ]
    }
   ],
   "execution_count": 6
  },
  {
   "metadata": {
    "ExecuteTime": {
     "end_time": "2024-12-14T15:13:43.321497Z",
     "start_time": "2024-12-14T15:13:43.314191Z"
    }
   },
   "cell_type": "code",
   "source": "X.head()",
   "id": "afd5468e92369880",
   "outputs": [
    {
     "data": {
      "text/plain": [
       "   person_age  person_income person_home_ownership  person_emp_length  \\\n",
       "0          22          59000                  RENT              123.0   \n",
       "1          21           9600                   OWN                5.0   \n",
       "2          25           9600              MORTGAGE                1.0   \n",
       "3          23          65500                  RENT                4.0   \n",
       "4          24          54400                  RENT                8.0   \n",
       "\n",
       "  loan_intent loan_grade  loan_amnt  loan_int_rate  loan_percent_income  \\\n",
       "0    PERSONAL          D      35000          16.02                 0.59   \n",
       "1   EDUCATION          B       1000          11.14                 0.10   \n",
       "2     MEDICAL          C       5500          12.87                 0.57   \n",
       "3     MEDICAL          C      35000          15.23                 0.53   \n",
       "4     MEDICAL          C      35000          14.27                 0.55   \n",
       "\n",
       "  cb_person_default_on_file  cb_person_cred_hist_length  \n",
       "0                         Y                           3  \n",
       "1                         N                           2  \n",
       "2                         N                           3  \n",
       "3                         N                           2  \n",
       "4                         Y                           4  "
      ],
      "text/html": [
       "<div>\n",
       "<style scoped>\n",
       "    .dataframe tbody tr th:only-of-type {\n",
       "        vertical-align: middle;\n",
       "    }\n",
       "\n",
       "    .dataframe tbody tr th {\n",
       "        vertical-align: top;\n",
       "    }\n",
       "\n",
       "    .dataframe thead th {\n",
       "        text-align: right;\n",
       "    }\n",
       "</style>\n",
       "<table border=\"1\" class=\"dataframe\">\n",
       "  <thead>\n",
       "    <tr style=\"text-align: right;\">\n",
       "      <th></th>\n",
       "      <th>person_age</th>\n",
       "      <th>person_income</th>\n",
       "      <th>person_home_ownership</th>\n",
       "      <th>person_emp_length</th>\n",
       "      <th>loan_intent</th>\n",
       "      <th>loan_grade</th>\n",
       "      <th>loan_amnt</th>\n",
       "      <th>loan_int_rate</th>\n",
       "      <th>loan_percent_income</th>\n",
       "      <th>cb_person_default_on_file</th>\n",
       "      <th>cb_person_cred_hist_length</th>\n",
       "    </tr>\n",
       "  </thead>\n",
       "  <tbody>\n",
       "    <tr>\n",
       "      <th>0</th>\n",
       "      <td>22</td>\n",
       "      <td>59000</td>\n",
       "      <td>RENT</td>\n",
       "      <td>123.0</td>\n",
       "      <td>PERSONAL</td>\n",
       "      <td>D</td>\n",
       "      <td>35000</td>\n",
       "      <td>16.02</td>\n",
       "      <td>0.59</td>\n",
       "      <td>Y</td>\n",
       "      <td>3</td>\n",
       "    </tr>\n",
       "    <tr>\n",
       "      <th>1</th>\n",
       "      <td>21</td>\n",
       "      <td>9600</td>\n",
       "      <td>OWN</td>\n",
       "      <td>5.0</td>\n",
       "      <td>EDUCATION</td>\n",
       "      <td>B</td>\n",
       "      <td>1000</td>\n",
       "      <td>11.14</td>\n",
       "      <td>0.10</td>\n",
       "      <td>N</td>\n",
       "      <td>2</td>\n",
       "    </tr>\n",
       "    <tr>\n",
       "      <th>2</th>\n",
       "      <td>25</td>\n",
       "      <td>9600</td>\n",
       "      <td>MORTGAGE</td>\n",
       "      <td>1.0</td>\n",
       "      <td>MEDICAL</td>\n",
       "      <td>C</td>\n",
       "      <td>5500</td>\n",
       "      <td>12.87</td>\n",
       "      <td>0.57</td>\n",
       "      <td>N</td>\n",
       "      <td>3</td>\n",
       "    </tr>\n",
       "    <tr>\n",
       "      <th>3</th>\n",
       "      <td>23</td>\n",
       "      <td>65500</td>\n",
       "      <td>RENT</td>\n",
       "      <td>4.0</td>\n",
       "      <td>MEDICAL</td>\n",
       "      <td>C</td>\n",
       "      <td>35000</td>\n",
       "      <td>15.23</td>\n",
       "      <td>0.53</td>\n",
       "      <td>N</td>\n",
       "      <td>2</td>\n",
       "    </tr>\n",
       "    <tr>\n",
       "      <th>4</th>\n",
       "      <td>24</td>\n",
       "      <td>54400</td>\n",
       "      <td>RENT</td>\n",
       "      <td>8.0</td>\n",
       "      <td>MEDICAL</td>\n",
       "      <td>C</td>\n",
       "      <td>35000</td>\n",
       "      <td>14.27</td>\n",
       "      <td>0.55</td>\n",
       "      <td>Y</td>\n",
       "      <td>4</td>\n",
       "    </tr>\n",
       "  </tbody>\n",
       "</table>\n",
       "</div>"
      ]
     },
     "execution_count": 7,
     "metadata": {},
     "output_type": "execute_result"
    }
   ],
   "execution_count": 7
  },
  {
   "metadata": {
    "ExecuteTime": {
     "end_time": "2024-12-14T15:13:43.858612Z",
     "start_time": "2024-12-14T15:13:43.851999Z"
    }
   },
   "cell_type": "code",
   "source": "y.head()",
   "id": "f2c33d4885044f82",
   "outputs": [
    {
     "data": {
      "text/plain": [
       "0    1\n",
       "1    0\n",
       "2    1\n",
       "3    1\n",
       "4    1\n",
       "Name: loan_status, dtype: int64"
      ]
     },
     "execution_count": 8,
     "metadata": {},
     "output_type": "execute_result"
    }
   ],
   "execution_count": 8
  },
  {
   "metadata": {
    "ExecuteTime": {
     "end_time": "2024-12-14T15:13:44.904109Z",
     "start_time": "2024-12-14T15:13:44.795893Z"
    }
   },
   "cell_type": "code",
   "source": [
    "from sklearn.model_selection import train_test_split\n",
    "\n",
    "def split_train_test(X, y, test_size, random_state=None):\n",
    "    \"\"\"\n",
    "    This function splits the data into train and test sets.\n",
    "    \n",
    "    Parameters\n",
    "    ----------\n",
    "    X: DataFrame\n",
    "        feature of dataset to split\n",
    "        \n",
    "    y: Dataframe\n",
    "        output of dataset to split\n",
    "    \n",
    "    test_size: double (0 <= test_size <= 1)\n",
    "        proportion of the split dataset    \n",
    "    \n",
    "    random_state: int\n",
    "        Controls the shuffling applied to the data before applying the split\n",
    "        \n",
    "    Returns\n",
    "    -------\n",
    "    split version of the X and y in form X_train, X_test, y_train, y_test\n",
    "    \"\"\"\n",
    "    X_train, X_test, y_train, y_test = train_test_split(\n",
    "        X, y, test_size=test_size, random_state=random_state\n",
    "    )\n",
    "\n",
    "    print(f\"X train shape: {X_train.shape}\")\n",
    "    print(f\"X test shape: {X_test.shape}\")\n",
    "    print(f\"y train shape: {y_train.shape}\")\n",
    "    print(f\"y test shape: {y_test.shape}\")\n",
    "\n",
    "    return X_train, X_test, y_train, y_test"
   ],
   "id": "2cd9a535f93814ab",
   "outputs": [],
   "execution_count": 9
  },
  {
   "metadata": {
    "ExecuteTime": {
     "end_time": "2024-12-14T15:13:46.064280Z",
     "start_time": "2024-12-14T15:13:46.056740Z"
    }
   },
   "cell_type": "code",
   "source": "X_train, X_non_train, y_train, y_non_train = split_train_test(X, y, test_size=0.2, random_state=42)",
   "id": "84c52d65049009db",
   "outputs": [
    {
     "name": "stdout",
     "output_type": "stream",
     "text": [
      "X train shape: (26064, 11)\n",
      "X test shape: (6517, 11)\n",
      "y train shape: (26064,)\n",
      "y test shape: (6517,)\n"
     ]
    }
   ],
   "execution_count": 10
  },
  {
   "metadata": {
    "ExecuteTime": {
     "end_time": "2024-12-14T15:13:47.056244Z",
     "start_time": "2024-12-14T15:13:47.048199Z"
    }
   },
   "cell_type": "code",
   "source": "X_valid, X_test, y_valid, y_test = split_train_test(X_non_train, y_non_train, test_size=0.2, random_state=42)",
   "id": "699e7a008461a81b",
   "outputs": [
    {
     "name": "stdout",
     "output_type": "stream",
     "text": [
      "X train shape: (5213, 11)\n",
      "X test shape: (1304, 11)\n",
      "y train shape: (5213,)\n",
      "y test shape: (1304,)\n"
     ]
    }
   ],
   "execution_count": 11
  },
  {
   "metadata": {
    "ExecuteTime": {
     "end_time": "2024-12-14T15:13:49.484277Z",
     "start_time": "2024-12-14T15:13:49.482118Z"
    }
   },
   "cell_type": "code",
   "source": [
    "import joblib\n",
    "\n",
    "def serialize_data(data, path):\n",
    "    \"\"\"\n",
    "    This function serializes the data into a pickle file.\n",
    "    \n",
    "    Parameters\n",
    "    ----------\n",
    "    data: DataFrame\n",
    "        data to be serialized\n",
    "    \n",
    "    path: string\n",
    "        location of the pickle file\n",
    "    \n",
    "    Returns\n",
    "    -------\n",
    "        None\n",
    "    \"\"\"\n",
    "    joblib.dump(data, path)"
   ],
   "id": "bc425cbfad541c04",
   "outputs": [],
   "execution_count": 12
  },
  {
   "metadata": {
    "ExecuteTime": {
     "end_time": "2024-12-14T15:13:51.420136Z",
     "start_time": "2024-12-14T15:13:51.409898Z"
    }
   },
   "cell_type": "code",
   "source": [
    "serialize_data(X_train, path=\"data/interim/X_train.pkl\")\n",
    "serialize_data(y_train, path=\"data/interim/y_train.pkl\")\n",
    "\n",
    "serialize_data(X_test, path=\"data/interim/X_test.pkl\")\n",
    "serialize_data(y_test, path=\"data/interim/y_test.pkl\")\n",
    "\n",
    "serialize_data(X_valid, path=\"data/interim/X_valid.pkl\")\n",
    "serialize_data(y_valid, path=\"data/interim/y_valid.pkl\")"
   ],
   "id": "7cf30d15ff910f69",
   "outputs": [],
   "execution_count": 13
  },
  {
   "metadata": {
    "ExecuteTime": {
     "end_time": "2024-12-14T15:13:53.030863Z",
     "start_time": "2024-12-14T15:13:53.027632Z"
    }
   },
   "cell_type": "code",
   "source": [
    "import joblib\n",
    "\n",
    "def deserialize_data(path):\n",
    "    \"\"\"\n",
    "    This function deserializes the data into a pickle file.\n",
    "    \n",
    "    Parameters\n",
    "    ----------\n",
    "    path: string\n",
    "        location of the pickle file \n",
    "    \n",
    "    Returns\n",
    "    -------\n",
    "    data : DataFrame\n",
    "        data to be deserialized\n",
    "    \"\"\"\n",
    "    data = joblib.load(path)\n",
    "    return data"
   ],
   "id": "715271f9e77a50eb",
   "outputs": [],
   "execution_count": 14
  },
  {
   "metadata": {
    "ExecuteTime": {
     "end_time": "2024-12-14T15:13:54.211202Z",
     "start_time": "2024-12-14T15:13:54.203822Z"
    }
   },
   "cell_type": "code",
   "source": "X_train = deserialize_data(\"data/interim/X_train.pkl\")",
   "id": "69ac0c1023aa3cf1",
   "outputs": [],
   "execution_count": 15
  },
  {
   "metadata": {
    "ExecuteTime": {
     "end_time": "2024-12-14T15:13:54.714156Z",
     "start_time": "2024-12-14T15:13:54.707020Z"
    }
   },
   "cell_type": "code",
   "source": "X_train.head()",
   "id": "5aff940be85c3c77",
   "outputs": [
    {
     "data": {
      "text/plain": [
       "       person_age  person_income person_home_ownership  person_emp_length  \\\n",
       "32377          64          46000                  RENT                2.0   \n",
       "1338           26          26000                   OWN                0.0   \n",
       "7047           23          51000              MORTGAGE                3.0   \n",
       "8225           22          56004              MORTGAGE                6.0   \n",
       "7178           24          79000                  RENT                3.0   \n",
       "\n",
       "             loan_intent loan_grade  loan_amnt  loan_int_rate  \\\n",
       "32377           PERSONAL          C       4800          11.09   \n",
       "1338   DEBTCONSOLIDATION          E       8500          16.45   \n",
       "7047            PERSONAL          C      16000          13.11   \n",
       "8225             MEDICAL          A       6000           7.88   \n",
       "7178            PERSONAL          C       7000          12.54   \n",
       "\n",
       "       loan_percent_income cb_person_default_on_file  \\\n",
       "32377                 0.10                         Y   \n",
       "1338                  0.33                         N   \n",
       "7047                  0.31                         Y   \n",
       "8225                  0.11                         N   \n",
       "7178                  0.09                         N   \n",
       "\n",
       "       cb_person_cred_hist_length  \n",
       "32377                          24  \n",
       "1338                            3  \n",
       "7047                            3  \n",
       "8225                            4  \n",
       "7178                            3  "
      ],
      "text/html": [
       "<div>\n",
       "<style scoped>\n",
       "    .dataframe tbody tr th:only-of-type {\n",
       "        vertical-align: middle;\n",
       "    }\n",
       "\n",
       "    .dataframe tbody tr th {\n",
       "        vertical-align: top;\n",
       "    }\n",
       "\n",
       "    .dataframe thead th {\n",
       "        text-align: right;\n",
       "    }\n",
       "</style>\n",
       "<table border=\"1\" class=\"dataframe\">\n",
       "  <thead>\n",
       "    <tr style=\"text-align: right;\">\n",
       "      <th></th>\n",
       "      <th>person_age</th>\n",
       "      <th>person_income</th>\n",
       "      <th>person_home_ownership</th>\n",
       "      <th>person_emp_length</th>\n",
       "      <th>loan_intent</th>\n",
       "      <th>loan_grade</th>\n",
       "      <th>loan_amnt</th>\n",
       "      <th>loan_int_rate</th>\n",
       "      <th>loan_percent_income</th>\n",
       "      <th>cb_person_default_on_file</th>\n",
       "      <th>cb_person_cred_hist_length</th>\n",
       "    </tr>\n",
       "  </thead>\n",
       "  <tbody>\n",
       "    <tr>\n",
       "      <th>32377</th>\n",
       "      <td>64</td>\n",
       "      <td>46000</td>\n",
       "      <td>RENT</td>\n",
       "      <td>2.0</td>\n",
       "      <td>PERSONAL</td>\n",
       "      <td>C</td>\n",
       "      <td>4800</td>\n",
       "      <td>11.09</td>\n",
       "      <td>0.10</td>\n",
       "      <td>Y</td>\n",
       "      <td>24</td>\n",
       "    </tr>\n",
       "    <tr>\n",
       "      <th>1338</th>\n",
       "      <td>26</td>\n",
       "      <td>26000</td>\n",
       "      <td>OWN</td>\n",
       "      <td>0.0</td>\n",
       "      <td>DEBTCONSOLIDATION</td>\n",
       "      <td>E</td>\n",
       "      <td>8500</td>\n",
       "      <td>16.45</td>\n",
       "      <td>0.33</td>\n",
       "      <td>N</td>\n",
       "      <td>3</td>\n",
       "    </tr>\n",
       "    <tr>\n",
       "      <th>7047</th>\n",
       "      <td>23</td>\n",
       "      <td>51000</td>\n",
       "      <td>MORTGAGE</td>\n",
       "      <td>3.0</td>\n",
       "      <td>PERSONAL</td>\n",
       "      <td>C</td>\n",
       "      <td>16000</td>\n",
       "      <td>13.11</td>\n",
       "      <td>0.31</td>\n",
       "      <td>Y</td>\n",
       "      <td>3</td>\n",
       "    </tr>\n",
       "    <tr>\n",
       "      <th>8225</th>\n",
       "      <td>22</td>\n",
       "      <td>56004</td>\n",
       "      <td>MORTGAGE</td>\n",
       "      <td>6.0</td>\n",
       "      <td>MEDICAL</td>\n",
       "      <td>A</td>\n",
       "      <td>6000</td>\n",
       "      <td>7.88</td>\n",
       "      <td>0.11</td>\n",
       "      <td>N</td>\n",
       "      <td>4</td>\n",
       "    </tr>\n",
       "    <tr>\n",
       "      <th>7178</th>\n",
       "      <td>24</td>\n",
       "      <td>79000</td>\n",
       "      <td>RENT</td>\n",
       "      <td>3.0</td>\n",
       "      <td>PERSONAL</td>\n",
       "      <td>C</td>\n",
       "      <td>7000</td>\n",
       "      <td>12.54</td>\n",
       "      <td>0.09</td>\n",
       "      <td>N</td>\n",
       "      <td>3</td>\n",
       "    </tr>\n",
       "  </tbody>\n",
       "</table>\n",
       "</div>"
      ]
     },
     "execution_count": 16,
     "metadata": {},
     "output_type": "execute_result"
    }
   ],
   "execution_count": 16
  },
  {
   "metadata": {},
   "cell_type": "code",
   "outputs": [],
   "execution_count": null,
   "source": "",
   "id": "d6a8a36a964e90af"
  }
 ],
 "metadata": {
  "kernelspec": {
   "display_name": "Python 3",
   "language": "python",
   "name": "python3"
  },
  "language_info": {
   "codemirror_mode": {
    "name": "ipython",
    "version": 2
   },
   "file_extension": ".py",
   "mimetype": "text/x-python",
   "name": "python",
   "nbconvert_exporter": "python",
   "pygments_lexer": "ipython2",
   "version": "2.7.6"
  }
 },
 "nbformat": 4,
 "nbformat_minor": 5
}
