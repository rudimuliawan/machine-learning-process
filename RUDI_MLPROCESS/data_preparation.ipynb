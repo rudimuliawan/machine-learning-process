{
 "cells": [
  {
   "cell_type": "code",
   "id": "initial_id",
   "metadata": {
    "collapsed": true,
    "ExecuteTime": {
     "end_time": "2024-12-08T12:07:17.258551Z",
     "start_time": "2024-12-08T12:07:16.625313Z"
    }
   },
   "source": "import pandas as pd",
   "outputs": [],
   "execution_count": 1
  },
  {
   "metadata": {
    "ExecuteTime": {
     "end_time": "2024-12-08T12:08:55.882309Z",
     "start_time": "2024-12-08T12:08:55.879490Z"
    }
   },
   "cell_type": "code",
   "source": [
    "def load_data(fname):\n",
    "    \"\"\"\n",
    "    This function loads the data from the csv file \n",
    "    and convert it into a pandas dataframe.\n",
    "\n",
    "    Parameters\n",
    "    ----------- \n",
    "    fname : string \n",
    "        location of the csv file \n",
    "    \n",
    "    Returns\n",
    "    ------- \n",
    "    dataframe : DataFrame\n",
    "        loaded data in pandas dataframe format\n",
    "    \"\"\"\n",
    "    dataframe = pd.read_csv(fname)\n",
    "    print(f\"Data Shape: {dataframe.shape}\")\n",
    "    return dataframe"
   ],
   "id": "8a42b8f68855ba13",
   "outputs": [],
   "execution_count": 4
  },
  {
   "metadata": {
    "ExecuteTime": {
     "end_time": "2024-12-08T12:08:58.456474Z",
     "start_time": "2024-12-08T12:08:58.413013Z"
    }
   },
   "cell_type": "code",
   "source": "fname = load_data(\"data/raw/credit_risk_dataset.csv\")",
   "id": "501f64b46d63ac44",
   "outputs": [
    {
     "name": "stdout",
     "output_type": "stream",
     "text": [
      "Data Shape: (32581, 12)\n"
     ]
    }
   ],
   "execution_count": 5
  },
  {
   "metadata": {
    "ExecuteTime": {
     "end_time": "2024-12-08T12:09:00.275267Z",
     "start_time": "2024-12-08T12:09:00.263945Z"
    }
   },
   "cell_type": "code",
   "source": "fname.head()",
   "id": "8570fd1218c35548",
   "outputs": [
    {
     "data": {
      "text/plain": [
       "   person_age  person_income person_home_ownership  person_emp_length  \\\n",
       "0          22          59000                  RENT              123.0   \n",
       "1          21           9600                   OWN                5.0   \n",
       "2          25           9600              MORTGAGE                1.0   \n",
       "3          23          65500                  RENT                4.0   \n",
       "4          24          54400                  RENT                8.0   \n",
       "\n",
       "  loan_intent loan_grade  loan_amnt  loan_int_rate  loan_status  \\\n",
       "0    PERSONAL          D      35000          16.02            1   \n",
       "1   EDUCATION          B       1000          11.14            0   \n",
       "2     MEDICAL          C       5500          12.87            1   \n",
       "3     MEDICAL          C      35000          15.23            1   \n",
       "4     MEDICAL          C      35000          14.27            1   \n",
       "\n",
       "   loan_percent_income cb_person_default_on_file  cb_person_cred_hist_length  \n",
       "0                 0.59                         Y                           3  \n",
       "1                 0.10                         N                           2  \n",
       "2                 0.57                         N                           3  \n",
       "3                 0.53                         N                           2  \n",
       "4                 0.55                         Y                           4  "
      ],
      "text/html": [
       "<div>\n",
       "<style scoped>\n",
       "    .dataframe tbody tr th:only-of-type {\n",
       "        vertical-align: middle;\n",
       "    }\n",
       "\n",
       "    .dataframe tbody tr th {\n",
       "        vertical-align: top;\n",
       "    }\n",
       "\n",
       "    .dataframe thead th {\n",
       "        text-align: right;\n",
       "    }\n",
       "</style>\n",
       "<table border=\"1\" class=\"dataframe\">\n",
       "  <thead>\n",
       "    <tr style=\"text-align: right;\">\n",
       "      <th></th>\n",
       "      <th>person_age</th>\n",
       "      <th>person_income</th>\n",
       "      <th>person_home_ownership</th>\n",
       "      <th>person_emp_length</th>\n",
       "      <th>loan_intent</th>\n",
       "      <th>loan_grade</th>\n",
       "      <th>loan_amnt</th>\n",
       "      <th>loan_int_rate</th>\n",
       "      <th>loan_status</th>\n",
       "      <th>loan_percent_income</th>\n",
       "      <th>cb_person_default_on_file</th>\n",
       "      <th>cb_person_cred_hist_length</th>\n",
       "    </tr>\n",
       "  </thead>\n",
       "  <tbody>\n",
       "    <tr>\n",
       "      <th>0</th>\n",
       "      <td>22</td>\n",
       "      <td>59000</td>\n",
       "      <td>RENT</td>\n",
       "      <td>123.0</td>\n",
       "      <td>PERSONAL</td>\n",
       "      <td>D</td>\n",
       "      <td>35000</td>\n",
       "      <td>16.02</td>\n",
       "      <td>1</td>\n",
       "      <td>0.59</td>\n",
       "      <td>Y</td>\n",
       "      <td>3</td>\n",
       "    </tr>\n",
       "    <tr>\n",
       "      <th>1</th>\n",
       "      <td>21</td>\n",
       "      <td>9600</td>\n",
       "      <td>OWN</td>\n",
       "      <td>5.0</td>\n",
       "      <td>EDUCATION</td>\n",
       "      <td>B</td>\n",
       "      <td>1000</td>\n",
       "      <td>11.14</td>\n",
       "      <td>0</td>\n",
       "      <td>0.10</td>\n",
       "      <td>N</td>\n",
       "      <td>2</td>\n",
       "    </tr>\n",
       "    <tr>\n",
       "      <th>2</th>\n",
       "      <td>25</td>\n",
       "      <td>9600</td>\n",
       "      <td>MORTGAGE</td>\n",
       "      <td>1.0</td>\n",
       "      <td>MEDICAL</td>\n",
       "      <td>C</td>\n",
       "      <td>5500</td>\n",
       "      <td>12.87</td>\n",
       "      <td>1</td>\n",
       "      <td>0.57</td>\n",
       "      <td>N</td>\n",
       "      <td>3</td>\n",
       "    </tr>\n",
       "    <tr>\n",
       "      <th>3</th>\n",
       "      <td>23</td>\n",
       "      <td>65500</td>\n",
       "      <td>RENT</td>\n",
       "      <td>4.0</td>\n",
       "      <td>MEDICAL</td>\n",
       "      <td>C</td>\n",
       "      <td>35000</td>\n",
       "      <td>15.23</td>\n",
       "      <td>1</td>\n",
       "      <td>0.53</td>\n",
       "      <td>N</td>\n",
       "      <td>2</td>\n",
       "    </tr>\n",
       "    <tr>\n",
       "      <th>4</th>\n",
       "      <td>24</td>\n",
       "      <td>54400</td>\n",
       "      <td>RENT</td>\n",
       "      <td>8.0</td>\n",
       "      <td>MEDICAL</td>\n",
       "      <td>C</td>\n",
       "      <td>35000</td>\n",
       "      <td>14.27</td>\n",
       "      <td>1</td>\n",
       "      <td>0.55</td>\n",
       "      <td>Y</td>\n",
       "      <td>4</td>\n",
       "    </tr>\n",
       "  </tbody>\n",
       "</table>\n",
       "</div>"
      ]
     },
     "execution_count": 6,
     "metadata": {},
     "output_type": "execute_result"
    }
   ],
   "execution_count": 6
  },
  {
   "metadata": {},
   "cell_type": "code",
   "outputs": [],
   "execution_count": null,
   "source": "",
   "id": "46ac419d4d541252"
  },
  {
   "metadata": {
    "ExecuteTime": {
     "end_time": "2024-12-08T12:09:02.411875Z",
     "start_time": "2024-12-08T12:09:02.408786Z"
    }
   },
   "cell_type": "code",
   "source": [
    "def split_input_output(data, target_col):\n",
    "    \"\"\"\n",
    "    This function splits the data into input \n",
    "    and output based on the target column.\n",
    "    \n",
    "    Parameters\n",
    "    ----------\n",
    "    data: DataFrame \n",
    "        data to be split \n",
    "\n",
    "    target_col: str\n",
    "        name of the target column   \n",
    "\n",
    "    Returns\n",
    "    --------\n",
    "    X : DataFrame\n",
    "        feature of dataset, \n",
    "    \n",
    "    y : Dataframe\n",
    "        column target of dataset\n",
    "    \"\"\"\n",
    "    y = data[target_col]\n",
    "    X = data.drop(target_col, axis=1)\n",
    "    print(f\"Original data shape: {data.shape}\")\n",
    "    print(f\"X data shape: {X.shape}\")\n",
    "    print(f\"y data shape: {y.shape}\")\n",
    "    return X, y"
   ],
   "id": "5fe4c5af52951de5",
   "outputs": [],
   "execution_count": 7
  },
  {
   "metadata": {
    "ExecuteTime": {
     "end_time": "2024-12-08T12:09:05.128954Z",
     "start_time": "2024-12-08T12:09:05.120512Z"
    }
   },
   "cell_type": "code",
   "source": [
    "target_col = \"loan_status\"\n",
    "X, y = split_input_output(fname, target_col)"
   ],
   "id": "538b5a3ddb3a0973",
   "outputs": [
    {
     "name": "stdout",
     "output_type": "stream",
     "text": [
      "Original data shape: (32581, 12)\n",
      "X data shape: (32581, 11)\n",
      "y data shape: (32581,)\n"
     ]
    }
   ],
   "execution_count": 8
  },
  {
   "metadata": {
    "ExecuteTime": {
     "end_time": "2024-12-08T12:09:07.181886Z",
     "start_time": "2024-12-08T12:09:07.170528Z"
    }
   },
   "cell_type": "code",
   "source": "X.head()",
   "id": "afd5468e92369880",
   "outputs": [
    {
     "data": {
      "text/plain": [
       "   person_age person_home_ownership  person_emp_length loan_intent loan_grade  \\\n",
       "0          22                  RENT              123.0    PERSONAL          D   \n",
       "1          21                   OWN                5.0   EDUCATION          B   \n",
       "2          25              MORTGAGE                1.0     MEDICAL          C   \n",
       "3          23                  RENT                4.0     MEDICAL          C   \n",
       "4          24                  RENT                8.0     MEDICAL          C   \n",
       "\n",
       "   loan_amnt  loan_int_rate  loan_status  loan_percent_income  \\\n",
       "0      35000          16.02            1                 0.59   \n",
       "1       1000          11.14            0                 0.10   \n",
       "2       5500          12.87            1                 0.57   \n",
       "3      35000          15.23            1                 0.53   \n",
       "4      35000          14.27            1                 0.55   \n",
       "\n",
       "  cb_person_default_on_file  cb_person_cred_hist_length  \n",
       "0                         Y                           3  \n",
       "1                         N                           2  \n",
       "2                         N                           3  \n",
       "3                         N                           2  \n",
       "4                         Y                           4  "
      ],
      "text/html": [
       "<div>\n",
       "<style scoped>\n",
       "    .dataframe tbody tr th:only-of-type {\n",
       "        vertical-align: middle;\n",
       "    }\n",
       "\n",
       "    .dataframe tbody tr th {\n",
       "        vertical-align: top;\n",
       "    }\n",
       "\n",
       "    .dataframe thead th {\n",
       "        text-align: right;\n",
       "    }\n",
       "</style>\n",
       "<table border=\"1\" class=\"dataframe\">\n",
       "  <thead>\n",
       "    <tr style=\"text-align: right;\">\n",
       "      <th></th>\n",
       "      <th>person_age</th>\n",
       "      <th>person_home_ownership</th>\n",
       "      <th>person_emp_length</th>\n",
       "      <th>loan_intent</th>\n",
       "      <th>loan_grade</th>\n",
       "      <th>loan_amnt</th>\n",
       "      <th>loan_int_rate</th>\n",
       "      <th>loan_status</th>\n",
       "      <th>loan_percent_income</th>\n",
       "      <th>cb_person_default_on_file</th>\n",
       "      <th>cb_person_cred_hist_length</th>\n",
       "    </tr>\n",
       "  </thead>\n",
       "  <tbody>\n",
       "    <tr>\n",
       "      <th>0</th>\n",
       "      <td>22</td>\n",
       "      <td>RENT</td>\n",
       "      <td>123.0</td>\n",
       "      <td>PERSONAL</td>\n",
       "      <td>D</td>\n",
       "      <td>35000</td>\n",
       "      <td>16.02</td>\n",
       "      <td>1</td>\n",
       "      <td>0.59</td>\n",
       "      <td>Y</td>\n",
       "      <td>3</td>\n",
       "    </tr>\n",
       "    <tr>\n",
       "      <th>1</th>\n",
       "      <td>21</td>\n",
       "      <td>OWN</td>\n",
       "      <td>5.0</td>\n",
       "      <td>EDUCATION</td>\n",
       "      <td>B</td>\n",
       "      <td>1000</td>\n",
       "      <td>11.14</td>\n",
       "      <td>0</td>\n",
       "      <td>0.10</td>\n",
       "      <td>N</td>\n",
       "      <td>2</td>\n",
       "    </tr>\n",
       "    <tr>\n",
       "      <th>2</th>\n",
       "      <td>25</td>\n",
       "      <td>MORTGAGE</td>\n",
       "      <td>1.0</td>\n",
       "      <td>MEDICAL</td>\n",
       "      <td>C</td>\n",
       "      <td>5500</td>\n",
       "      <td>12.87</td>\n",
       "      <td>1</td>\n",
       "      <td>0.57</td>\n",
       "      <td>N</td>\n",
       "      <td>3</td>\n",
       "    </tr>\n",
       "    <tr>\n",
       "      <th>3</th>\n",
       "      <td>23</td>\n",
       "      <td>RENT</td>\n",
       "      <td>4.0</td>\n",
       "      <td>MEDICAL</td>\n",
       "      <td>C</td>\n",
       "      <td>35000</td>\n",
       "      <td>15.23</td>\n",
       "      <td>1</td>\n",
       "      <td>0.53</td>\n",
       "      <td>N</td>\n",
       "      <td>2</td>\n",
       "    </tr>\n",
       "    <tr>\n",
       "      <th>4</th>\n",
       "      <td>24</td>\n",
       "      <td>RENT</td>\n",
       "      <td>8.0</td>\n",
       "      <td>MEDICAL</td>\n",
       "      <td>C</td>\n",
       "      <td>35000</td>\n",
       "      <td>14.27</td>\n",
       "      <td>1</td>\n",
       "      <td>0.55</td>\n",
       "      <td>Y</td>\n",
       "      <td>4</td>\n",
       "    </tr>\n",
       "  </tbody>\n",
       "</table>\n",
       "</div>"
      ]
     },
     "execution_count": 9,
     "metadata": {},
     "output_type": "execute_result"
    }
   ],
   "execution_count": 9
  },
  {
   "metadata": {
    "ExecuteTime": {
     "end_time": "2024-12-08T12:09:09.439800Z",
     "start_time": "2024-12-08T12:09:09.433776Z"
    }
   },
   "cell_type": "code",
   "source": "y.head()",
   "id": "f2c33d4885044f82",
   "outputs": [
    {
     "data": {
      "text/plain": [
       "0    59000\n",
       "1     9600\n",
       "2     9600\n",
       "3    65500\n",
       "4    54400\n",
       "Name: person_income, dtype: int64"
      ]
     },
     "execution_count": 10,
     "metadata": {},
     "output_type": "execute_result"
    }
   ],
   "execution_count": 10
  },
  {
   "metadata": {
    "ExecuteTime": {
     "end_time": "2024-12-08T12:09:12.216455Z",
     "start_time": "2024-12-08T12:09:11.303267Z"
    }
   },
   "cell_type": "code",
   "source": [
    "from sklearn.model_selection import train_test_split\n",
    "\n",
    "def split_train_test(X, y, test_size, random_state=None):\n",
    "    \"\"\"\n",
    "    This function splits the data into train and test sets.\n",
    "    \n",
    "    Parameters\n",
    "    ----------\n",
    "    X: DataFrame\n",
    "        feature of dataset to split\n",
    "        \n",
    "    y: Dataframe\n",
    "        output of dataset to split\n",
    "    \n",
    "    test_size: double (0 <= test_size <= 1)\n",
    "        proportion of the split dataset    \n",
    "    \n",
    "    random_state: int\n",
    "        Controls the shuffling applied to the data before applying the split\n",
    "        \n",
    "    Returns\n",
    "    -------\n",
    "    split version of the X and y in form X_train, X_test, y_train, y_test\n",
    "    \"\"\"\n",
    "    X_train, X_test, y_train, y_test = train_test_split(\n",
    "        X, y, test_size=test_size, random_state=random_state\n",
    "    )\n",
    "\n",
    "    print(f\"X train shape: {X_train.shape}\")\n",
    "    print(f\"X test shape: {X_test.shape}\")\n",
    "    print(f\"y train shape: {y_train.shape}\")\n",
    "    print(f\"y test shape: {y_test.shape}\")\n",
    "\n",
    "    return X_train, X_test, y_train, y_test"
   ],
   "id": "2cd9a535f93814ab",
   "outputs": [],
   "execution_count": 11
  },
  {
   "metadata": {
    "ExecuteTime": {
     "end_time": "2024-12-08T12:09:16.231360Z",
     "start_time": "2024-12-08T12:09:16.221466Z"
    }
   },
   "cell_type": "code",
   "source": "X_train, X_non_train, y_train, y_non_train = split_train_test(X, y, test_size=0.2, random_state=42)",
   "id": "84c52d65049009db",
   "outputs": [
    {
     "name": "stdout",
     "output_type": "stream",
     "text": [
      "X train shape: (26064, 11)\n",
      "X test shape: (6517, 11)\n",
      "y train shape: (26064,)\n",
      "y test shape: (6517,)\n"
     ]
    }
   ],
   "execution_count": 12
  },
  {
   "metadata": {
    "ExecuteTime": {
     "end_time": "2024-12-08T12:09:18.232683Z",
     "start_time": "2024-12-08T12:09:18.226967Z"
    }
   },
   "cell_type": "code",
   "source": "X_valid, y_valid, X_test, y_test = split_train_test(X_non_train, y_non_train, test_size=0.2, random_state=42)",
   "id": "699e7a008461a81b",
   "outputs": [
    {
     "name": "stdout",
     "output_type": "stream",
     "text": [
      "X train shape: (5213, 11)\n",
      "X test shape: (1304, 11)\n",
      "y train shape: (5213,)\n",
      "y test shape: (1304,)\n"
     ]
    }
   ],
   "execution_count": 13
  },
  {
   "metadata": {
    "ExecuteTime": {
     "end_time": "2024-12-08T12:09:20.068633Z",
     "start_time": "2024-12-08T12:09:20.066134Z"
    }
   },
   "cell_type": "code",
   "source": [
    "import joblib\n",
    "\n",
    "def serialize_data(data, path):\n",
    "    \"\"\"\n",
    "    This function serializes the data into a pickle file.\n",
    "    \n",
    "    Parameters\n",
    "    ----------\n",
    "    data: DataFrame\n",
    "        data to be serialized\n",
    "    \n",
    "    path: string\n",
    "        location of the pickle file\n",
    "    \n",
    "    Returns\n",
    "    -------\n",
    "        None\n",
    "    \"\"\"\n",
    "    joblib.dump(data, path)"
   ],
   "id": "bc425cbfad541c04",
   "outputs": [],
   "execution_count": 14
  },
  {
   "metadata": {
    "ExecuteTime": {
     "end_time": "2024-12-08T12:09:57.162100Z",
     "start_time": "2024-12-08T12:09:57.144355Z"
    }
   },
   "cell_type": "code",
   "source": [
    "serialize_data(X_train, path=\"data/raw/X_train.pkl\")\n",
    "serialize_data(y_train, path=\"data/raw/y_train.pkl\")\n",
    "\n",
    "serialize_data(X_test, path=\"data/raw/X_test.pkl\")\n",
    "serialize_data(y_test, path=\"data/raw/y_test.pkl\")\n",
    "\n",
    "serialize_data(X_valid, path=\"data/raw/X_valid.pkl\")\n",
    "serialize_data(y_valid, path=\"data/raw/y_valid.pkl\")"
   ],
   "id": "7cf30d15ff910f69",
   "outputs": [],
   "execution_count": 15
  },
  {
   "metadata": {
    "ExecuteTime": {
     "end_time": "2024-11-28T13:55:37.707684Z",
     "start_time": "2024-11-28T13:55:37.705390Z"
    }
   },
   "cell_type": "code",
   "source": [
    "import joblib\n",
    "\n",
    "def deserialize_data(path):\n",
    "    \"\"\"\n",
    "    This function deserializes the data into a pickle file.\n",
    "    \n",
    "    Parameters\n",
    "    ----------\n",
    "    path: string\n",
    "        location of the pickle file \n",
    "    \n",
    "    Returns\n",
    "    -------\n",
    "    data : DataFrame\n",
    "        data to be deserialized\n",
    "    \"\"\"\n",
    "    data = joblib.load(path)\n",
    "    return data"
   ],
   "id": "715271f9e77a50eb",
   "outputs": [],
   "execution_count": 23
  },
  {
   "metadata": {
    "ExecuteTime": {
     "end_time": "2024-11-28T13:55:39.483832Z",
     "start_time": "2024-11-28T13:55:39.477094Z"
    }
   },
   "cell_type": "code",
   "source": "X_train = deserialize_data(\"data/raw/X_train.pkl\")",
   "id": "69ac0c1023aa3cf1",
   "outputs": [],
   "execution_count": 24
  },
  {
   "metadata": {
    "ExecuteTime": {
     "end_time": "2024-11-28T13:55:44.739440Z",
     "start_time": "2024-11-28T13:55:44.711249Z"
    }
   },
   "cell_type": "code",
   "source": "X_train.head()",
   "id": "5aff940be85c3c77",
   "outputs": [
    {
     "data": {
      "text/plain": [
       "       person_age person_home_ownership  person_emp_length        loan_intent  \\\n",
       "32377          64                  RENT                2.0           PERSONAL   \n",
       "1338           26                   OWN                0.0  DEBTCONSOLIDATION   \n",
       "7047           23              MORTGAGE                3.0           PERSONAL   \n",
       "8225           22              MORTGAGE                6.0            MEDICAL   \n",
       "7178           24                  RENT                3.0           PERSONAL   \n",
       "\n",
       "      loan_grade  loan_amnt  loan_int_rate  loan_status  loan_percent_income  \\\n",
       "32377          C       4800          11.09            0                 0.10   \n",
       "1338           E       8500          16.45            1                 0.33   \n",
       "7047           C      16000          13.11            0                 0.31   \n",
       "8225           A       6000           7.88            0                 0.11   \n",
       "7178           C       7000          12.54            0                 0.09   \n",
       "\n",
       "      cb_person_default_on_file  cb_person_cred_hist_length  \n",
       "32377                         Y                          24  \n",
       "1338                          N                           3  \n",
       "7047                          Y                           3  \n",
       "8225                          N                           4  \n",
       "7178                          N                           3  "
      ],
      "text/html": [
       "<div>\n",
       "<style scoped>\n",
       "    .dataframe tbody tr th:only-of-type {\n",
       "        vertical-align: middle;\n",
       "    }\n",
       "\n",
       "    .dataframe tbody tr th {\n",
       "        vertical-align: top;\n",
       "    }\n",
       "\n",
       "    .dataframe thead th {\n",
       "        text-align: right;\n",
       "    }\n",
       "</style>\n",
       "<table border=\"1\" class=\"dataframe\">\n",
       "  <thead>\n",
       "    <tr style=\"text-align: right;\">\n",
       "      <th></th>\n",
       "      <th>person_age</th>\n",
       "      <th>person_home_ownership</th>\n",
       "      <th>person_emp_length</th>\n",
       "      <th>loan_intent</th>\n",
       "      <th>loan_grade</th>\n",
       "      <th>loan_amnt</th>\n",
       "      <th>loan_int_rate</th>\n",
       "      <th>loan_status</th>\n",
       "      <th>loan_percent_income</th>\n",
       "      <th>cb_person_default_on_file</th>\n",
       "      <th>cb_person_cred_hist_length</th>\n",
       "    </tr>\n",
       "  </thead>\n",
       "  <tbody>\n",
       "    <tr>\n",
       "      <th>32377</th>\n",
       "      <td>64</td>\n",
       "      <td>RENT</td>\n",
       "      <td>2.0</td>\n",
       "      <td>PERSONAL</td>\n",
       "      <td>C</td>\n",
       "      <td>4800</td>\n",
       "      <td>11.09</td>\n",
       "      <td>0</td>\n",
       "      <td>0.10</td>\n",
       "      <td>Y</td>\n",
       "      <td>24</td>\n",
       "    </tr>\n",
       "    <tr>\n",
       "      <th>1338</th>\n",
       "      <td>26</td>\n",
       "      <td>OWN</td>\n",
       "      <td>0.0</td>\n",
       "      <td>DEBTCONSOLIDATION</td>\n",
       "      <td>E</td>\n",
       "      <td>8500</td>\n",
       "      <td>16.45</td>\n",
       "      <td>1</td>\n",
       "      <td>0.33</td>\n",
       "      <td>N</td>\n",
       "      <td>3</td>\n",
       "    </tr>\n",
       "    <tr>\n",
       "      <th>7047</th>\n",
       "      <td>23</td>\n",
       "      <td>MORTGAGE</td>\n",
       "      <td>3.0</td>\n",
       "      <td>PERSONAL</td>\n",
       "      <td>C</td>\n",
       "      <td>16000</td>\n",
       "      <td>13.11</td>\n",
       "      <td>0</td>\n",
       "      <td>0.31</td>\n",
       "      <td>Y</td>\n",
       "      <td>3</td>\n",
       "    </tr>\n",
       "    <tr>\n",
       "      <th>8225</th>\n",
       "      <td>22</td>\n",
       "      <td>MORTGAGE</td>\n",
       "      <td>6.0</td>\n",
       "      <td>MEDICAL</td>\n",
       "      <td>A</td>\n",
       "      <td>6000</td>\n",
       "      <td>7.88</td>\n",
       "      <td>0</td>\n",
       "      <td>0.11</td>\n",
       "      <td>N</td>\n",
       "      <td>4</td>\n",
       "    </tr>\n",
       "    <tr>\n",
       "      <th>7178</th>\n",
       "      <td>24</td>\n",
       "      <td>RENT</td>\n",
       "      <td>3.0</td>\n",
       "      <td>PERSONAL</td>\n",
       "      <td>C</td>\n",
       "      <td>7000</td>\n",
       "      <td>12.54</td>\n",
       "      <td>0</td>\n",
       "      <td>0.09</td>\n",
       "      <td>N</td>\n",
       "      <td>3</td>\n",
       "    </tr>\n",
       "  </tbody>\n",
       "</table>\n",
       "</div>"
      ]
     },
     "execution_count": 25,
     "metadata": {},
     "output_type": "execute_result"
    }
   ],
   "execution_count": 25
  }
 ],
 "metadata": {
  "kernelspec": {
   "display_name": "Python 3",
   "language": "python",
   "name": "python3"
  },
  "language_info": {
   "codemirror_mode": {
    "name": "ipython",
    "version": 2
   },
   "file_extension": ".py",
   "mimetype": "text/x-python",
   "name": "python",
   "nbconvert_exporter": "python",
   "pygments_lexer": "ipython2",
   "version": "2.7.6"
  }
 },
 "nbformat": 4,
 "nbformat_minor": 5
}
