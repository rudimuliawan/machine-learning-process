{
 "cells": [
  {
   "metadata": {
    "ExecuteTime": {
     "end_time": "2024-12-11T08:42:35.467651Z",
     "start_time": "2024-12-11T08:42:35.465255Z"
    }
   },
   "cell_type": "code",
   "source": [
    "import numpy as np\n",
    "import pandas as pd\n",
    "\n",
    "from copy import deepcopy\n",
    "from sklearn.preprocessing import OneHotEncoder"
   ],
   "id": "145e845fbd6f73ad",
   "outputs": [],
   "execution_count": 3
  },
  {
   "metadata": {
    "ExecuteTime": {
     "end_time": "2024-12-11T08:42:36.799077Z",
     "start_time": "2024-12-11T08:42:36.767363Z"
    }
   },
   "cell_type": "code",
   "source": [
    "from src.utils import deserialize_data\n",
    "\n",
    "X_train = deserialize_data(\"data/interim/X_train.pkl\")\n",
    "y_train = deserialize_data(\"data/interim/y_train.pkl\")\n",
    "\n",
    "X_valid = deserialize_data(\"data/interim/X_valid.pkl\")\n",
    "y_valid = deserialize_data(\"data/interim/y_valid.pkl\")\n",
    "\n",
    "X_test = deserialize_data(\"data/interim/X_test.pkl\")\n",
    "y_test = deserialize_data(\"data/interim/y_test.pkl\")"
   ],
   "id": "de01c926dcbf03b9",
   "outputs": [],
   "execution_count": 4
  },
  {
   "metadata": {
    "ExecuteTime": {
     "end_time": "2024-12-11T09:39:56.515079Z",
     "start_time": "2024-12-11T09:39:56.492152Z"
    }
   },
   "cell_type": "code",
   "outputs": [
    {
     "name": "stdout",
     "output_type": "stream",
     "text": [
      "Fungsi drop_duplicate_data: shape dataset sebelum dropping duplicate adalah (25946, 11).\n",
      "Fungsi drop_duplicate_data: shape dari data yang duplicate adalah (0, 11).\n",
      "Fungsi drop_duplicate_data: shape dataset setelah drop duplicate seharusnya adalah (25946, 11).\n",
      "Fungsi drop_duplicate_data: shape dataset setelah dropping duplicate adalah (25946, 11).\n"
     ]
    }
   ],
   "execution_count": 53,
   "source": [
    "def drop_duplicate_data(X, y):\n",
    "    \"\"\"\n",
    "    This function drops duplicated data from row X and y.\n",
    "    \n",
    "    Parameters\n",
    "    -----------\n",
    "    X : dataframe\n",
    "        features of dataset\n",
    "        \n",
    "    y : series\n",
    "        target of dataset\n",
    "\n",
    "    Returns\n",
    "    -------\n",
    "    X : dataframe\n",
    "        dropped duplicated data features of dataset\n",
    "        \n",
    "    y : dataframe\n",
    "        dropped duplicated data target of dataset\n",
    "    \"\"\"\n",
    "    \n",
    "    if not isinstance(X, pd.DataFrame):\n",
    "        raise TypeError(\"Fungsi median_imputation: parameter X haruslah bertipe DataFrame!\")\n",
    "    \n",
    "    if not isinstance(y, pd.Series):\n",
    "        raise TypeError(\"Fungsi median_imputation: parameter y haruslah bertipe DataFrame!\")\n",
    "    \n",
    "    print(f\"Fungis drop_duplicate_data telah divalidasi.\")\n",
    "    \n",
    "    X = X.copy()\n",
    "    y = y.copy()\n",
    "    print(f\"Fungsi drop_duplicate_data: shape dataset sebelum dropping duplicate adalah {X.shape}.\")\n",
    "    \n",
    "    X_duplicate = X_train[X_train.duplicated()]\n",
    "    print(f\"Fungsi drop_duplicate_data: shape dari data yang duplicate adalah {X_duplicate.shape}.\")\n",
    "\n",
    "    X_clean = (X.shape[0] - X_duplicate.shape[0], X.shape[1])\n",
    "    print(f\"Fungsi drop_duplicate_data: shape dataset setelah drop duplicate seharusnya adalah {X_clean}.\")\n",
    "    \n",
    "    X.drop_duplicates(inplace=True)\n",
    "    y = y[X.index]\n",
    "    \n",
    "    print(f\"Fungsi drop_duplicate_data: shape dataset setelah dropping duplicate adalah {X.shape}.\")\n",
    "    \n",
    "    return X, y"
   ],
   "id": "bb8288fa64bd9b9b"
  },
  {
   "metadata": {},
   "cell_type": "code",
   "outputs": [],
   "execution_count": null,
   "source": "X_train, y_train = drop_duplicate_data(X_train, y_train)",
   "id": "8b31695fd41db2c2"
  },
  {
   "metadata": {},
   "cell_type": "code",
   "outputs": [],
   "execution_count": null,
   "source": [
    "def median_imputation(data, subset_data, fit):\n",
    "    \"\"\"\n",
    "    Parameters\n",
    "    -----------\n",
    "    data : dataframe\n",
    "        dataset to be imputed\n",
    "        \n",
    "    subset_data : list of string\n",
    "        columns name\n",
    "\n",
    "    fit : boolean\n",
    "        if fit=true, this function will return median of subset_data\n",
    "        if fit=false, this function will impute the data based on subset_data\n",
    "\n",
    "    Returns\n",
    "    -------\n",
    "    X : dataframe\n",
    "        dropped duplicated data features of dataset\n",
    "        \n",
    "    y : dataframe\n",
    "        dropped duplicated data target of dataset\n",
    "    \"\"\"\n",
    "    \n",
    "    if not isinstance(data, pd.DataFrame):\n",
    "        raise TypeError(\"Fungsi median_imputation: parameter data haruslah bertipe DataFrame!\")\n",
    "    \n",
    "    if fit is True and not isinstance(subset_data, list):\n",
    "        raise TypeError(\n",
    "            \"Fungsi median_imputation: untuk nilai parameter fit = True, subset_data harus bertipe list dan berisi \" \n",
    "            \"daftar nama kolom yang ingin dicari nilai mediannya guna menjadi data imputasi pada kolom tersebut\")\n",
    "    \n",
    "    if fit is False and not isinstance(subset_data, dict):\n",
    "        raise TypeError(\n",
    "            \"Fungsi median_imputation: untuk nilai parameter fit = False, subset_data harus bertipe dict dan berisi \"\n",
    "            \"key yang merupakan nama kolom beserta value yang merupakan nilai median dari kolom tersebut\")\n",
    "    \n",
    "    if not isinstance(fit, bool):\n",
    "        raise TypeError(\"Fungsi median_imputation: parameter fit haruslah bertipe boolean, bernilai True atau False.\")\n",
    "    \n",
    "    print(\"Fungsi median_imputation: parameter telah divalidasi.\")\n",
    "    \n",
    "    data = data.copy()\n",
    "    subset_data = deepcopy(subset_data) \n",
    "    \n",
    "    \"\"\"\n",
    "    Handles fitting data\n",
    "    \"\"\"\n",
    "    if fit is True:\n",
    "        imputation_data = {}\n",
    "        for subset in subset_data:\n",
    "            imputation_data[subset] = data[subset].median(numeric_only=True)\n",
    "            \n",
    "        print(f\"Fungsi median_imputation: proses fitting telah selesai, berikut hasilnya {imputation_data}\")\n",
    "            \n",
    "        return True\n",
    "    \n",
    "    \"\"\"\n",
    "    Handles transforming data\n",
    "    \"\"\"\n",
    "    print(\"Fungsi median_imputation: informasi count na sebelum dilakukan imputasi\")\n",
    "    print(data.isna().sum())\n",
    "    print()\n",
    "    \n",
    "    for subset in subset_data:\n",
    "        data[subset] = data[subset].fillna(subset_data[subset], inplace=True)\n",
    "        \n",
    "    print(\"Fungsi median_imputation: informasi count na setelah dilakukan imputasi.\")\n",
    "    print(data.isna().sum())\n",
    "    print()\n",
    "    \n",
    "    return data"
   ],
   "id": "dbeee672193dab59"
  },
  {
   "metadata": {
    "ExecuteTime": {
     "end_time": "2024-12-13T13:06:55.886374Z",
     "start_time": "2024-12-13T13:06:55.628921Z"
    }
   },
   "cell_type": "code",
   "source": "X_train.head()",
   "id": "2df2473b5beb7f18",
   "outputs": [
    {
     "ename": "NameError",
     "evalue": "name 'X_train' is not defined",
     "output_type": "error",
     "traceback": [
      "\u001B[0;31m---------------------------------------------------------------------------\u001B[0m",
      "\u001B[0;31mNameError\u001B[0m                                 Traceback (most recent call last)",
      "Cell \u001B[0;32mIn[1], line 1\u001B[0m\n\u001B[0;32m----> 1\u001B[0m \u001B[43mX_train\u001B[49m\u001B[38;5;241m.\u001B[39mhead()\n",
      "\u001B[0;31mNameError\u001B[0m: name 'X_train' is not defined"
     ]
    }
   ],
   "execution_count": 1
  }
 ],
 "metadata": {
  "kernelspec": {
   "display_name": "Python 3",
   "language": "python",
   "name": "python3"
  },
  "language_info": {
   "codemirror_mode": {
    "name": "ipython",
    "version": 2
   },
   "file_extension": ".py",
   "mimetype": "text/x-python",
   "name": "python",
   "nbconvert_exporter": "python",
   "pygments_lexer": "ipython2",
   "version": "2.7.6"
  }
 },
 "nbformat": 4,
 "nbformat_minor": 5
}
