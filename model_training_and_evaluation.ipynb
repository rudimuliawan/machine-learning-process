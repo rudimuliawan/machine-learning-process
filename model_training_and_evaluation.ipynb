{
 "cells": [
  {
   "cell_type": "code",
   "id": "initial_id",
   "metadata": {
    "collapsed": true,
    "ExecuteTime": {
     "end_time": "2025-01-05T08:54:34.803211Z",
     "start_time": "2025-01-05T08:54:34.587661Z"
    }
   },
   "source": [
    "import numpy as np\n",
    "from sklearn.dummy import DummyClassifier\n",
    "from sklearn.metrics import make_scorer, precision_score\n",
    "from sklearn.linear_model import LogisticRegression\n",
    "from sklearn.model_selection import GridSearchCV, RandomizedSearchCV, StratifiedKFold\n",
    "from sklearn.svm import SVC"
   ],
   "outputs": [],
   "execution_count": 1
  },
  {
   "metadata": {
    "ExecuteTime": {
     "end_time": "2025-01-05T08:54:34.810139Z",
     "start_time": "2025-01-05T08:54:34.806994Z"
    }
   },
   "cell_type": "code",
   "source": [
    "logreg_param_grid = [{\n",
    "    'penalty': ['l1', 'l2', 'elasticnet'],\n",
    "    'C': np.logspace(-4, 4, 20),\n",
    "    'solver': ['lbfgs', 'newton-cg', 'saga'],\n",
    "    'max_iter' : [100, 1000],\n",
    "    'l1_ratio': [0.5]\n",
    "}]\n",
    "svm_param_grid = {\n",
    "    'C': [0.1, 1, 10],\n",
    "    'gamma': [1, 0.1, 0.01],\n",
    "    'kernel': ['rbf']\n",
    "}"
   ],
   "id": "6d880f21e3eefe75",
   "outputs": [],
   "execution_count": 2
  },
  {
   "metadata": {
    "ExecuteTime": {
     "end_time": "2025-01-05T08:54:34.935176Z",
     "start_time": "2025-01-05T08:54:34.918891Z"
    }
   },
   "cell_type": "code",
   "source": [
    "from src.utils import deserialize_data\n",
    "\n",
    "X_train = deserialize_data(\"data/processed/X_train_ros.pkl\")\n",
    "y_train = deserialize_data(\"data/processed/y_train_ros.pkl\")\n",
    "\n",
    "X_valid = deserialize_data(\"data/processed/X_valid_prep.pkl\")\n",
    "y_valid = deserialize_data(\"data/interim/y_valid.pkl\")\n",
    "\n",
    "X_test = deserialize_data(\"data/processed/X_test_prep.pkl\")\n",
    "y_test = deserialize_data(\"data/interim/y_test.pkl\")"
   ],
   "id": "ffd6bef4540c10f8",
   "outputs": [],
   "execution_count": 3
  },
  {
   "metadata": {
    "ExecuteTime": {
     "end_time": "2025-01-05T08:54:34.957254Z",
     "start_time": "2025-01-05T08:54:34.954546Z"
    }
   },
   "cell_type": "code",
   "source": [
    "logreg_model = LogisticRegression(n_jobs=-1)\n",
    "svm_model = SVC()"
   ],
   "id": "c7efb723c3b5a835",
   "outputs": [],
   "execution_count": 4
  },
  {
   "metadata": {
    "ExecuteTime": {
     "end_time": "2025-01-05T08:54:39.885573Z",
     "start_time": "2025-01-05T08:54:39.880302Z"
    }
   },
   "cell_type": "code",
   "source": [
    "def train_model(model, param_grid, X_train, y_train):\n",
    "    \"\"\"\n",
    "    Trains the model with hyperparameters and returns the trained model.\n",
    "\n",
    "    Parameters\n",
    "    -----------\n",
    "    model : Scikit's model\n",
    "\n",
    "    hyperparameters : dict\n",
    "        hyperparameters required by GridSearchCV\n",
    "\n",
    "    X_train: dataframe\n",
    "    \t\tdataset's features for traing\n",
    "\n",
    "    y_train: dataframe\n",
    "    \t\tdataset's label for training\n",
    "\n",
    "    Returns\n",
    "    -------\n",
    "    base : RandomizedSearchCV\n",
    "    \tan RandomizedSearchCV object\n",
    "    \"\"\"\n",
    "    k_fold = StratifiedKFold(n_splits=5, shuffle=True, random_state=50)\n",
    "    base = RandomizedSearchCV(\n",
    "        estimator=model, param_distributions=param_grid,\n",
    "        n_iter=50, scoring=make_scorer(precision_score, zero_division=0),\n",
    "        n_jobs=-1, verbose=3, cv=k_fold, refit='precision',\n",
    "    )\n",
    "\n",
    "    base.fit(X_train, y_train)\n",
    "\n",
    "    return base"
   ],
   "id": "9b03e7775d81782b",
   "outputs": [],
   "execution_count": 5
  },
  {
   "metadata": {
    "ExecuteTime": {
     "end_time": "2025-01-05T08:55:08.008619Z",
     "start_time": "2025-01-05T08:54:40.959942Z"
    }
   },
   "cell_type": "code",
   "source": [
    "logreg_base = train_model(logreg_model, logreg_param_grid, X_train, y_train)\n",
    "svm_base = train_model(svm_model, svm_param_grid, X_train, y_train)"
   ],
   "id": "fae4eac033b62b52",
   "outputs": [
    {
     "name": "stdout",
     "output_type": "stream",
     "text": [
      "Fitting 5 folds for each of 50 candidates, totalling 250 fits\n"
     ]
    },
    {
     "name": "stderr",
     "output_type": "stream",
     "text": [
      "/Users/rudi/Documents/pacmann/ML API/machine-learning-process/.venv/lib/python3.9/site-packages/sklearn/linear_model/_logistic.py:1196: UserWarning: l1_ratio parameter is only used when penalty is 'elasticnet'. Got (penalty=l2)\n",
      "  warnings.warn(\n",
      "/Users/rudi/Documents/pacmann/ML API/machine-learning-process/.venv/lib/python3.9/site-packages/sklearn/linear_model/_logistic.py:1196: UserWarning: l1_ratio parameter is only used when penalty is 'elasticnet'. Got (penalty=l2)\n",
      "  warnings.warn(\n",
      "/Users/rudi/Documents/pacmann/ML API/machine-learning-process/.venv/lib/python3.9/site-packages/sklearn/linear_model/_logistic.py:1196: UserWarning: l1_ratio parameter is only used when penalty is 'elasticnet'. Got (penalty=l2)\n",
      "  warnings.warn(\n",
      "/Users/rudi/Documents/pacmann/ML API/machine-learning-process/.venv/lib/python3.9/site-packages/sklearn/linear_model/_logistic.py:1196: UserWarning: l1_ratio parameter is only used when penalty is 'elasticnet'. Got (penalty=l2)\n",
      "  warnings.warn(\n",
      "/Users/rudi/Documents/pacmann/ML API/machine-learning-process/.venv/lib/python3.9/site-packages/sklearn/linear_model/_logistic.py:1196: UserWarning: l1_ratio parameter is only used when penalty is 'elasticnet'. Got (penalty=l2)\n",
      "  warnings.warn(\n",
      "/Users/rudi/Documents/pacmann/ML API/machine-learning-process/.venv/lib/python3.9/site-packages/sklearn/linear_model/_logistic.py:1196: UserWarning: l1_ratio parameter is only used when penalty is 'elasticnet'. Got (penalty=l2)\n",
      "  warnings.warn(\n",
      "/Users/rudi/Documents/pacmann/ML API/machine-learning-process/.venv/lib/python3.9/site-packages/sklearn/linear_model/_logistic.py:1196: UserWarning: l1_ratio parameter is only used when penalty is 'elasticnet'. Got (penalty=l2)\n",
      "  warnings.warn(\n",
      "/Users/rudi/Documents/pacmann/ML API/machine-learning-process/.venv/lib/python3.9/site-packages/sklearn/linear_model/_logistic.py:1196: UserWarning: l1_ratio parameter is only used when penalty is 'elasticnet'. Got (penalty=l2)\n",
      "  warnings.warn(\n",
      "/Users/rudi/Documents/pacmann/ML API/machine-learning-process/.venv/lib/python3.9/site-packages/sklearn/linear_model/_logistic.py:1196: UserWarning: l1_ratio parameter is only used when penalty is 'elasticnet'. Got (penalty=l2)\n",
      "  warnings.warn(\n",
      "/Users/rudi/Documents/pacmann/ML API/machine-learning-process/.venv/lib/python3.9/site-packages/sklearn/linear_model/_logistic.py:1196: UserWarning: l1_ratio parameter is only used when penalty is 'elasticnet'. Got (penalty=l2)\n",
      "  warnings.warn(\n",
      "/Users/rudi/Documents/pacmann/ML API/machine-learning-process/.venv/lib/python3.9/site-packages/sklearn/linear_model/_logistic.py:1196: UserWarning: l1_ratio parameter is only used when penalty is 'elasticnet'. Got (penalty=l2)\n",
      "  warnings.warn(\n",
      "/Users/rudi/Documents/pacmann/ML API/machine-learning-process/.venv/lib/python3.9/site-packages/sklearn/linear_model/_logistic.py:1196: UserWarning: l1_ratio parameter is only used when penalty is 'elasticnet'. Got (penalty=l2)\n",
      "  warnings.warn(\n",
      "/Users/rudi/Documents/pacmann/ML API/machine-learning-process/.venv/lib/python3.9/site-packages/sklearn/linear_model/_logistic.py:1196: UserWarning: l1_ratio parameter is only used when penalty is 'elasticnet'. Got (penalty=l2)\n",
      "  warnings.warn(\n",
      "/Users/rudi/Documents/pacmann/ML API/machine-learning-process/.venv/lib/python3.9/site-packages/sklearn/linear_model/_logistic.py:1196: UserWarning: l1_ratio parameter is only used when penalty is 'elasticnet'. Got (penalty=l2)\n",
      "  warnings.warn(\n",
      "/Users/rudi/Documents/pacmann/ML API/machine-learning-process/.venv/lib/python3.9/site-packages/sklearn/linear_model/_logistic.py:1196: UserWarning: l1_ratio parameter is only used when penalty is 'elasticnet'. Got (penalty=l2)\n",
      "  warnings.warn(\n",
      "/Users/rudi/Documents/pacmann/ML API/machine-learning-process/.venv/lib/python3.9/site-packages/sklearn/linear_model/_logistic.py:1196: UserWarning: l1_ratio parameter is only used when penalty is 'elasticnet'. Got (penalty=l1)\n",
      "  warnings.warn(\n",
      "/Users/rudi/Documents/pacmann/ML API/machine-learning-process/.venv/lib/python3.9/site-packages/sklearn/linear_model/_logistic.py:1196: UserWarning: l1_ratio parameter is only used when penalty is 'elasticnet'. Got (penalty=l1)\n",
      "  warnings.warn(\n",
      "/Users/rudi/Documents/pacmann/ML API/machine-learning-process/.venv/lib/python3.9/site-packages/sklearn/linear_model/_logistic.py:1196: UserWarning: l1_ratio parameter is only used when penalty is 'elasticnet'. Got (penalty=l1)\n",
      "  warnings.warn(\n",
      "/Users/rudi/Documents/pacmann/ML API/machine-learning-process/.venv/lib/python3.9/site-packages/sklearn/linear_model/_logistic.py:1196: UserWarning: l1_ratio parameter is only used when penalty is 'elasticnet'. Got (penalty=l1)\n",
      "  warnings.warn(\n",
      "/Users/rudi/Documents/pacmann/ML API/machine-learning-process/.venv/lib/python3.9/site-packages/sklearn/linear_model/_logistic.py:1196: UserWarning: l1_ratio parameter is only used when penalty is 'elasticnet'. Got (penalty=l1)\n",
      "  warnings.warn(\n",
      "/Users/rudi/Documents/pacmann/ML API/machine-learning-process/.venv/lib/python3.9/site-packages/sklearn/linear_model/_logistic.py:1196: UserWarning: l1_ratio parameter is only used when penalty is 'elasticnet'. Got (penalty=l2)\n",
      "  warnings.warn(\n",
      "/Users/rudi/Documents/pacmann/ML API/machine-learning-process/.venv/lib/python3.9/site-packages/sklearn/linear_model/_logistic.py:1196: UserWarning: l1_ratio parameter is only used when penalty is 'elasticnet'. Got (penalty=l2)\n",
      "  warnings.warn(\n",
      "/Users/rudi/Documents/pacmann/ML API/machine-learning-process/.venv/lib/python3.9/site-packages/sklearn/linear_model/_logistic.py:1196: UserWarning: l1_ratio parameter is only used when penalty is 'elasticnet'. Got (penalty=l2)\n",
      "  warnings.warn(\n",
      "/Users/rudi/Documents/pacmann/ML API/machine-learning-process/.venv/lib/python3.9/site-packages/sklearn/linear_model/_logistic.py:1196: UserWarning: l1_ratio parameter is only used when penalty is 'elasticnet'. Got (penalty=l2)\n",
      "  warnings.warn(\n",
      "/Users/rudi/Documents/pacmann/ML API/machine-learning-process/.venv/lib/python3.9/site-packages/sklearn/linear_model/_logistic.py:1196: UserWarning: l1_ratio parameter is only used when penalty is 'elasticnet'. Got (penalty=l2)\n",
      "  warnings.warn(\n",
      "/Users/rudi/Documents/pacmann/ML API/machine-learning-process/.venv/lib/python3.9/site-packages/sklearn/linear_model/_logistic.py:1196: UserWarning: l1_ratio parameter is only used when penalty is 'elasticnet'. Got (penalty=l2)\n",
      "  warnings.warn(\n",
      "/Users/rudi/Documents/pacmann/ML API/machine-learning-process/.venv/lib/python3.9/site-packages/sklearn/linear_model/_logistic.py:1196: UserWarning: l1_ratio parameter is only used when penalty is 'elasticnet'. Got (penalty=l2)\n",
      "  warnings.warn(\n",
      "/Users/rudi/Documents/pacmann/ML API/machine-learning-process/.venv/lib/python3.9/site-packages/sklearn/linear_model/_logistic.py:1196: UserWarning: l1_ratio parameter is only used when penalty is 'elasticnet'. Got (penalty=l2)\n",
      "  warnings.warn(\n",
      "/Users/rudi/Documents/pacmann/ML API/machine-learning-process/.venv/lib/python3.9/site-packages/sklearn/linear_model/_logistic.py:1196: UserWarning: l1_ratio parameter is only used when penalty is 'elasticnet'. Got (penalty=l2)\n",
      "  warnings.warn(\n",
      "/Users/rudi/Documents/pacmann/ML API/machine-learning-process/.venv/lib/python3.9/site-packages/sklearn/linear_model/_logistic.py:1196: UserWarning: l1_ratio parameter is only used when penalty is 'elasticnet'. Got (penalty=l2)\n",
      "  warnings.warn(\n",
      "/Users/rudi/Documents/pacmann/ML API/machine-learning-process/.venv/lib/python3.9/site-packages/sklearn/linear_model/_sag.py:348: ConvergenceWarning: The max_iter was reached which means the coef_ did not converge\n",
      "  warnings.warn(\n",
      "/Users/rudi/Documents/pacmann/ML API/machine-learning-process/.venv/lib/python3.9/site-packages/sklearn/linear_model/_logistic.py:1196: UserWarning: l1_ratio parameter is only used when penalty is 'elasticnet'. Got (penalty=l2)\n",
      "  warnings.warn(\n",
      "/Users/rudi/Documents/pacmann/ML API/machine-learning-process/.venv/lib/python3.9/site-packages/sklearn/linear_model/_logistic.py:1196: UserWarning: l1_ratio parameter is only used when penalty is 'elasticnet'. Got (penalty=l2)\n",
      "  warnings.warn(\n",
      "/Users/rudi/Documents/pacmann/ML API/machine-learning-process/.venv/lib/python3.9/site-packages/sklearn/linear_model/_logistic.py:1196: UserWarning: l1_ratio parameter is only used when penalty is 'elasticnet'. Got (penalty=l2)\n",
      "  warnings.warn(\n",
      "/Users/rudi/Documents/pacmann/ML API/machine-learning-process/.venv/lib/python3.9/site-packages/sklearn/linear_model/_logistic.py:1196: UserWarning: l1_ratio parameter is only used when penalty is 'elasticnet'. Got (penalty=l2)\n",
      "  warnings.warn(\n",
      "/Users/rudi/Documents/pacmann/ML API/machine-learning-process/.venv/lib/python3.9/site-packages/sklearn/linear_model/_logistic.py:1196: UserWarning: l1_ratio parameter is only used when penalty is 'elasticnet'. Got (penalty=l2)\n",
      "  warnings.warn(\n",
      "/Users/rudi/Documents/pacmann/ML API/machine-learning-process/.venv/lib/python3.9/site-packages/sklearn/linear_model/_logistic.py:1196: UserWarning: l1_ratio parameter is only used when penalty is 'elasticnet'. Got (penalty=l1)\n",
      "  warnings.warn(\n",
      "/Users/rudi/Documents/pacmann/ML API/machine-learning-process/.venv/lib/python3.9/site-packages/sklearn/linear_model/_sag.py:348: ConvergenceWarning: The max_iter was reached which means the coef_ did not converge\n",
      "  warnings.warn(\n",
      "/Users/rudi/Documents/pacmann/ML API/machine-learning-process/.venv/lib/python3.9/site-packages/sklearn/linear_model/_logistic.py:1196: UserWarning: l1_ratio parameter is only used when penalty is 'elasticnet'. Got (penalty=l1)\n",
      "  warnings.warn(\n",
      "/Users/rudi/Documents/pacmann/ML API/machine-learning-process/.venv/lib/python3.9/site-packages/sklearn/linear_model/_logistic.py:1196: UserWarning: l1_ratio parameter is only used when penalty is 'elasticnet'. Got (penalty=l1)\n",
      "  warnings.warn(\n",
      "/Users/rudi/Documents/pacmann/ML API/machine-learning-process/.venv/lib/python3.9/site-packages/sklearn/linear_model/_logistic.py:1196: UserWarning: l1_ratio parameter is only used when penalty is 'elasticnet'. Got (penalty=l1)\n",
      "  warnings.warn(\n",
      "/Users/rudi/Documents/pacmann/ML API/machine-learning-process/.venv/lib/python3.9/site-packages/sklearn/linear_model/_logistic.py:1196: UserWarning: l1_ratio parameter is only used when penalty is 'elasticnet'. Got (penalty=l1)\n",
      "  warnings.warn(\n",
      "/Users/rudi/Documents/pacmann/ML API/machine-learning-process/.venv/lib/python3.9/site-packages/sklearn/linear_model/_logistic.py:1196: UserWarning: l1_ratio parameter is only used when penalty is 'elasticnet'. Got (penalty=l2)\n",
      "  warnings.warn(\n",
      "/Users/rudi/Documents/pacmann/ML API/machine-learning-process/.venv/lib/python3.9/site-packages/sklearn/linear_model/_logistic.py:1196: UserWarning: l1_ratio parameter is only used when penalty is 'elasticnet'. Got (penalty=l2)\n",
      "  warnings.warn(\n",
      "/Users/rudi/Documents/pacmann/ML API/machine-learning-process/.venv/lib/python3.9/site-packages/sklearn/linear_model/_logistic.py:1196: UserWarning: l1_ratio parameter is only used when penalty is 'elasticnet'. Got (penalty=l2)\n",
      "  warnings.warn(\n",
      "/Users/rudi/Documents/pacmann/ML API/machine-learning-process/.venv/lib/python3.9/site-packages/sklearn/linear_model/_logistic.py:1196: UserWarning: l1_ratio parameter is only used when penalty is 'elasticnet'. Got (penalty=l2)\n",
      "  warnings.warn(\n",
      "/Users/rudi/Documents/pacmann/ML API/machine-learning-process/.venv/lib/python3.9/site-packages/sklearn/linear_model/_logistic.py:1196: UserWarning: l1_ratio parameter is only used when penalty is 'elasticnet'. Got (penalty=l2)\n",
      "  warnings.warn(\n",
      "/Users/rudi/Documents/pacmann/ML API/machine-learning-process/.venv/lib/python3.9/site-packages/sklearn/linear_model/_logistic.py:1196: UserWarning: l1_ratio parameter is only used when penalty is 'elasticnet'. Got (penalty=l2)\n",
      "  warnings.warn(\n",
      "/Users/rudi/Documents/pacmann/ML API/machine-learning-process/.venv/lib/python3.9/site-packages/sklearn/linear_model/_logistic.py:1196: UserWarning: l1_ratio parameter is only used when penalty is 'elasticnet'. Got (penalty=l2)\n",
      "  warnings.warn(\n",
      "/Users/rudi/Documents/pacmann/ML API/machine-learning-process/.venv/lib/python3.9/site-packages/sklearn/linear_model/_sag.py:348: ConvergenceWarning: The max_iter was reached which means the coef_ did not converge\n",
      "  warnings.warn(\n",
      "/Users/rudi/Documents/pacmann/ML API/machine-learning-process/.venv/lib/python3.9/site-packages/sklearn/linear_model/_logistic.py:1196: UserWarning: l1_ratio parameter is only used when penalty is 'elasticnet'. Got (penalty=l2)\n",
      "  warnings.warn(\n",
      "/Users/rudi/Documents/pacmann/ML API/machine-learning-process/.venv/lib/python3.9/site-packages/sklearn/linear_model/_logistic.py:1196: UserWarning: l1_ratio parameter is only used when penalty is 'elasticnet'. Got (penalty=l2)\n",
      "  warnings.warn(\n",
      "/Users/rudi/Documents/pacmann/ML API/machine-learning-process/.venv/lib/python3.9/site-packages/sklearn/linear_model/_logistic.py:1196: UserWarning: l1_ratio parameter is only used when penalty is 'elasticnet'. Got (penalty=l2)\n",
      "  warnings.warn(\n",
      "/Users/rudi/Documents/pacmann/ML API/machine-learning-process/.venv/lib/python3.9/site-packages/sklearn/linear_model/_logistic.py:1196: UserWarning: l1_ratio parameter is only used when penalty is 'elasticnet'. Got (penalty=l2)\n",
      "  warnings.warn(\n",
      "/Users/rudi/Documents/pacmann/ML API/machine-learning-process/.venv/lib/python3.9/site-packages/sklearn/linear_model/_logistic.py:1196: UserWarning: l1_ratio parameter is only used when penalty is 'elasticnet'. Got (penalty=l2)\n",
      "  warnings.warn(\n",
      "/Users/rudi/Documents/pacmann/ML API/machine-learning-process/.venv/lib/python3.9/site-packages/sklearn/linear_model/_logistic.py:1196: UserWarning: l1_ratio parameter is only used when penalty is 'elasticnet'. Got (penalty=l2)\n",
      "  warnings.warn(\n",
      "/Users/rudi/Documents/pacmann/ML API/machine-learning-process/.venv/lib/python3.9/site-packages/sklearn/linear_model/_logistic.py:1196: UserWarning: l1_ratio parameter is only used when penalty is 'elasticnet'. Got (penalty=l2)\n",
      "  warnings.warn(\n",
      "/Users/rudi/Documents/pacmann/ML API/machine-learning-process/.venv/lib/python3.9/site-packages/sklearn/linear_model/_logistic.py:1196: UserWarning: l1_ratio parameter is only used when penalty is 'elasticnet'. Got (penalty=l2)\n",
      "  warnings.warn(\n",
      "/Users/rudi/Documents/pacmann/ML API/machine-learning-process/.venv/lib/python3.9/site-packages/sklearn/linear_model/_logistic.py:1196: UserWarning: l1_ratio parameter is only used when penalty is 'elasticnet'. Got (penalty=l1)\n",
      "  warnings.warn(\n",
      "/Users/rudi/Documents/pacmann/ML API/machine-learning-process/.venv/lib/python3.9/site-packages/sklearn/linear_model/_logistic.py:1196: UserWarning: l1_ratio parameter is only used when penalty is 'elasticnet'. Got (penalty=l1)\n",
      "  warnings.warn(\n",
      "/Users/rudi/Documents/pacmann/ML API/machine-learning-process/.venv/lib/python3.9/site-packages/sklearn/linear_model/_logistic.py:1196: UserWarning: l1_ratio parameter is only used when penalty is 'elasticnet'. Got (penalty=l1)\n",
      "  warnings.warn(\n",
      "/Users/rudi/Documents/pacmann/ML API/machine-learning-process/.venv/lib/python3.9/site-packages/sklearn/linear_model/_logistic.py:1196: UserWarning: l1_ratio parameter is only used when penalty is 'elasticnet'. Got (penalty=l1)\n",
      "  warnings.warn(\n",
      "/Users/rudi/Documents/pacmann/ML API/machine-learning-process/.venv/lib/python3.9/site-packages/sklearn/linear_model/_logistic.py:1196: UserWarning: l1_ratio parameter is only used when penalty is 'elasticnet'. Got (penalty=l1)\n",
      "  warnings.warn(\n",
      "/Users/rudi/Documents/pacmann/ML API/machine-learning-process/.venv/lib/python3.9/site-packages/sklearn/linear_model/_logistic.py:1196: UserWarning: l1_ratio parameter is only used when penalty is 'elasticnet'. Got (penalty=l2)\n",
      "  warnings.warn(\n",
      "/Users/rudi/Documents/pacmann/ML API/machine-learning-process/.venv/lib/python3.9/site-packages/sklearn/linear_model/_logistic.py:1196: UserWarning: l1_ratio parameter is only used when penalty is 'elasticnet'. Got (penalty=l2)\n",
      "  warnings.warn(\n",
      "/Users/rudi/Documents/pacmann/ML API/machine-learning-process/.venv/lib/python3.9/site-packages/sklearn/linear_model/_logistic.py:1196: UserWarning: l1_ratio parameter is only used when penalty is 'elasticnet'. Got (penalty=l2)\n",
      "  warnings.warn(\n",
      "/Users/rudi/Documents/pacmann/ML API/machine-learning-process/.venv/lib/python3.9/site-packages/sklearn/linear_model/_logistic.py:1196: UserWarning: l1_ratio parameter is only used when penalty is 'elasticnet'. Got (penalty=l2)\n",
      "  warnings.warn(\n",
      "/Users/rudi/Documents/pacmann/ML API/machine-learning-process/.venv/lib/python3.9/site-packages/sklearn/linear_model/_logistic.py:1196: UserWarning: l1_ratio parameter is only used when penalty is 'elasticnet'. Got (penalty=l2)\n",
      "  warnings.warn(\n",
      "/Users/rudi/Documents/pacmann/ML API/machine-learning-process/.venv/lib/python3.9/site-packages/sklearn/linear_model/_logistic.py:1196: UserWarning: l1_ratio parameter is only used when penalty is 'elasticnet'. Got (penalty=l1)\n",
      "  warnings.warn(\n",
      "/Users/rudi/Documents/pacmann/ML API/machine-learning-process/.venv/lib/python3.9/site-packages/sklearn/linear_model/_logistic.py:1196: UserWarning: l1_ratio parameter is only used when penalty is 'elasticnet'. Got (penalty=l1)\n",
      "  warnings.warn(\n",
      "/Users/rudi/Documents/pacmann/ML API/machine-learning-process/.venv/lib/python3.9/site-packages/sklearn/linear_model/_logistic.py:1196: UserWarning: l1_ratio parameter is only used when penalty is 'elasticnet'. Got (penalty=l1)\n",
      "  warnings.warn(\n",
      "/Users/rudi/Documents/pacmann/ML API/machine-learning-process/.venv/lib/python3.9/site-packages/sklearn/linear_model/_logistic.py:1196: UserWarning: l1_ratio parameter is only used when penalty is 'elasticnet'. Got (penalty=l1)\n",
      "  warnings.warn(\n",
      "/Users/rudi/Documents/pacmann/ML API/machine-learning-process/.venv/lib/python3.9/site-packages/sklearn/linear_model/_logistic.py:1196: UserWarning: l1_ratio parameter is only used when penalty is 'elasticnet'. Got (penalty=l1)\n",
      "  warnings.warn(\n",
      "/Users/rudi/Documents/pacmann/ML API/machine-learning-process/.venv/lib/python3.9/site-packages/sklearn/linear_model/_sag.py:348: ConvergenceWarning: The max_iter was reached which means the coef_ did not converge\n",
      "  warnings.warn(\n",
      "/Users/rudi/Documents/pacmann/ML API/machine-learning-process/.venv/lib/python3.9/site-packages/sklearn/linear_model/_sag.py:348: ConvergenceWarning: The max_iter was reached which means the coef_ did not converge\n",
      "  warnings.warn(\n",
      "/Users/rudi/Documents/pacmann/ML API/machine-learning-process/.venv/lib/python3.9/site-packages/sklearn/linear_model/_logistic.py:1196: UserWarning: l1_ratio parameter is only used when penalty is 'elasticnet'. Got (penalty=l2)\n",
      "  warnings.warn(\n",
      "/Users/rudi/Documents/pacmann/ML API/machine-learning-process/.venv/lib/python3.9/site-packages/sklearn/linear_model/_logistic.py:1196: UserWarning: l1_ratio parameter is only used when penalty is 'elasticnet'. Got (penalty=l2)\n",
      "  warnings.warn(\n",
      "/Users/rudi/Documents/pacmann/ML API/machine-learning-process/.venv/lib/python3.9/site-packages/sklearn/linear_model/_logistic.py:1196: UserWarning: l1_ratio parameter is only used when penalty is 'elasticnet'. Got (penalty=l2)\n",
      "  warnings.warn(\n",
      "/Users/rudi/Documents/pacmann/ML API/machine-learning-process/.venv/lib/python3.9/site-packages/sklearn/linear_model/_logistic.py:1196: UserWarning: l1_ratio parameter is only used when penalty is 'elasticnet'. Got (penalty=l2)\n",
      "  warnings.warn(\n",
      "/Users/rudi/Documents/pacmann/ML API/machine-learning-process/.venv/lib/python3.9/site-packages/sklearn/linear_model/_logistic.py:1196: UserWarning: l1_ratio parameter is only used when penalty is 'elasticnet'. Got (penalty=l2)\n",
      "  warnings.warn(\n",
      "/Users/rudi/Documents/pacmann/ML API/machine-learning-process/.venv/lib/python3.9/site-packages/sklearn/linear_model/_sag.py:348: ConvergenceWarning: The max_iter was reached which means the coef_ did not converge\n",
      "  warnings.warn(\n",
      "/Users/rudi/Documents/pacmann/ML API/machine-learning-process/.venv/lib/python3.9/site-packages/sklearn/linear_model/_sag.py:348: ConvergenceWarning: The max_iter was reached which means the coef_ did not converge\n",
      "  warnings.warn(\n",
      "/Users/rudi/Documents/pacmann/ML API/machine-learning-process/.venv/lib/python3.9/site-packages/sklearn/linear_model/_logistic.py:1196: UserWarning: l1_ratio parameter is only used when penalty is 'elasticnet'. Got (penalty=l2)\n",
      "  warnings.warn(\n",
      "/Users/rudi/Documents/pacmann/ML API/machine-learning-process/.venv/lib/python3.9/site-packages/sklearn/linear_model/_sag.py:348: ConvergenceWarning: The max_iter was reached which means the coef_ did not converge\n",
      "  warnings.warn(\n",
      "/Users/rudi/Documents/pacmann/ML API/machine-learning-process/.venv/lib/python3.9/site-packages/sklearn/linear_model/_logistic.py:1196: UserWarning: l1_ratio parameter is only used when penalty is 'elasticnet'. Got (penalty=l2)\n",
      "  warnings.warn(\n",
      "/Users/rudi/Documents/pacmann/ML API/machine-learning-process/.venv/lib/python3.9/site-packages/sklearn/linear_model/_logistic.py:1196: UserWarning: l1_ratio parameter is only used when penalty is 'elasticnet'. Got (penalty=l2)\n",
      "  warnings.warn(\n",
      "/Users/rudi/Documents/pacmann/ML API/machine-learning-process/.venv/lib/python3.9/site-packages/sklearn/linear_model/_logistic.py:1196: UserWarning: l1_ratio parameter is only used when penalty is 'elasticnet'. Got (penalty=l2)\n",
      "  warnings.warn(\n",
      "/Users/rudi/Documents/pacmann/ML API/machine-learning-process/.venv/lib/python3.9/site-packages/sklearn/linear_model/_logistic.py:1196: UserWarning: l1_ratio parameter is only used when penalty is 'elasticnet'. Got (penalty=l2)\n",
      "  warnings.warn(\n",
      "/Users/rudi/Documents/pacmann/ML API/machine-learning-process/.venv/lib/python3.9/site-packages/sklearn/linear_model/_logistic.py:1196: UserWarning: l1_ratio parameter is only used when penalty is 'elasticnet'. Got (penalty=l2)\n",
      "  warnings.warn(\n",
      "/Users/rudi/Documents/pacmann/ML API/machine-learning-process/.venv/lib/python3.9/site-packages/sklearn/linear_model/_logistic.py:1196: UserWarning: l1_ratio parameter is only used when penalty is 'elasticnet'. Got (penalty=l2)\n",
      "  warnings.warn(\n",
      "/Users/rudi/Documents/pacmann/ML API/machine-learning-process/.venv/lib/python3.9/site-packages/sklearn/linear_model/_logistic.py:1196: UserWarning: l1_ratio parameter is only used when penalty is 'elasticnet'. Got (penalty=l2)\n",
      "  warnings.warn(\n",
      "/Users/rudi/Documents/pacmann/ML API/machine-learning-process/.venv/lib/python3.9/site-packages/sklearn/linear_model/_logistic.py:1196: UserWarning: l1_ratio parameter is only used when penalty is 'elasticnet'. Got (penalty=l2)\n",
      "  warnings.warn(\n",
      "/Users/rudi/Documents/pacmann/ML API/machine-learning-process/.venv/lib/python3.9/site-packages/sklearn/linear_model/_logistic.py:1196: UserWarning: l1_ratio parameter is only used when penalty is 'elasticnet'. Got (penalty=l2)\n",
      "  warnings.warn(\n",
      "/Users/rudi/Documents/pacmann/ML API/machine-learning-process/.venv/lib/python3.9/site-packages/sklearn/linear_model/_logistic.py:1196: UserWarning: l1_ratio parameter is only used when penalty is 'elasticnet'. Got (penalty=l1)\n",
      "  warnings.warn(\n",
      "/Users/rudi/Documents/pacmann/ML API/machine-learning-process/.venv/lib/python3.9/site-packages/sklearn/linear_model/_logistic.py:1196: UserWarning: l1_ratio parameter is only used when penalty is 'elasticnet'. Got (penalty=l1)\n",
      "  warnings.warn(\n",
      "/Users/rudi/Documents/pacmann/ML API/machine-learning-process/.venv/lib/python3.9/site-packages/sklearn/linear_model/_logistic.py:1196: UserWarning: l1_ratio parameter is only used when penalty is 'elasticnet'. Got (penalty=l1)\n",
      "  warnings.warn(\n",
      "/Users/rudi/Documents/pacmann/ML API/machine-learning-process/.venv/lib/python3.9/site-packages/sklearn/linear_model/_logistic.py:1196: UserWarning: l1_ratio parameter is only used when penalty is 'elasticnet'. Got (penalty=l1)\n",
      "  warnings.warn(\n",
      "/Users/rudi/Documents/pacmann/ML API/machine-learning-process/.venv/lib/python3.9/site-packages/sklearn/linear_model/_logistic.py:1196: UserWarning: l1_ratio parameter is only used when penalty is 'elasticnet'. Got (penalty=l1)\n",
      "  warnings.warn(\n",
      "/Users/rudi/Documents/pacmann/ML API/machine-learning-process/.venv/lib/python3.9/site-packages/sklearn/linear_model/_logistic.py:1196: UserWarning: l1_ratio parameter is only used when penalty is 'elasticnet'. Got (penalty=l2)\n",
      "  warnings.warn(\n",
      "/Users/rudi/Documents/pacmann/ML API/machine-learning-process/.venv/lib/python3.9/site-packages/sklearn/linear_model/_logistic.py:1196: UserWarning: l1_ratio parameter is only used when penalty is 'elasticnet'. Got (penalty=l2)\n",
      "  warnings.warn(\n",
      "/Users/rudi/Documents/pacmann/ML API/machine-learning-process/.venv/lib/python3.9/site-packages/sklearn/linear_model/_logistic.py:1196: UserWarning: l1_ratio parameter is only used when penalty is 'elasticnet'. Got (penalty=l2)\n",
      "  warnings.warn(\n",
      "/Users/rudi/Documents/pacmann/ML API/machine-learning-process/.venv/lib/python3.9/site-packages/sklearn/linear_model/_logistic.py:1196: UserWarning: l1_ratio parameter is only used when penalty is 'elasticnet'. Got (penalty=l2)\n",
      "  warnings.warn(\n",
      "/Users/rudi/Documents/pacmann/ML API/machine-learning-process/.venv/lib/python3.9/site-packages/sklearn/linear_model/_logistic.py:1196: UserWarning: l1_ratio parameter is only used when penalty is 'elasticnet'. Got (penalty=l2)\n",
      "  warnings.warn(\n",
      "/Users/rudi/Documents/pacmann/ML API/machine-learning-process/.venv/lib/python3.9/site-packages/sklearn/linear_model/_sag.py:348: ConvergenceWarning: The max_iter was reached which means the coef_ did not converge\n",
      "  warnings.warn(\n",
      "/Users/rudi/Documents/pacmann/ML API/machine-learning-process/.venv/lib/python3.9/site-packages/sklearn/model_selection/_validation.py:528: FitFailedWarning: \n",
      "135 fits failed out of a total of 250.\n",
      "The score on these train-test partitions for these parameters will be set to nan.\n",
      "If these failures are not expected, you can try to debug them by setting error_score='raise'.\n",
      "\n",
      "Below are more details about the failures:\n",
      "--------------------------------------------------------------------------------\n",
      "25 fits failed with the following error:\n",
      "Traceback (most recent call last):\n",
      "  File \"/Users/rudi/Documents/pacmann/ML API/machine-learning-process/.venv/lib/python3.9/site-packages/sklearn/model_selection/_validation.py\", line 866, in _fit_and_score\n",
      "    estimator.fit(X_train, y_train, **fit_params)\n",
      "  File \"/Users/rudi/Documents/pacmann/ML API/machine-learning-process/.venv/lib/python3.9/site-packages/sklearn/base.py\", line 1389, in wrapper\n",
      "    return fit_method(estimator, *args, **kwargs)\n",
      "  File \"/Users/rudi/Documents/pacmann/ML API/machine-learning-process/.venv/lib/python3.9/site-packages/sklearn/linear_model/_logistic.py\", line 1193, in fit\n",
      "    solver = _check_solver(self.solver, self.penalty, self.dual)\n",
      "  File \"/Users/rudi/Documents/pacmann/ML API/machine-learning-process/.venv/lib/python3.9/site-packages/sklearn/linear_model/_logistic.py\", line 63, in _check_solver\n",
      "    raise ValueError(\n",
      "ValueError: Solver newton-cg supports only 'l2' or None penalties, got elasticnet penalty.\n",
      "\n",
      "--------------------------------------------------------------------------------\n",
      "30 fits failed with the following error:\n",
      "Traceback (most recent call last):\n",
      "  File \"/Users/rudi/Documents/pacmann/ML API/machine-learning-process/.venv/lib/python3.9/site-packages/sklearn/model_selection/_validation.py\", line 866, in _fit_and_score\n",
      "    estimator.fit(X_train, y_train, **fit_params)\n",
      "  File \"/Users/rudi/Documents/pacmann/ML API/machine-learning-process/.venv/lib/python3.9/site-packages/sklearn/base.py\", line 1389, in wrapper\n",
      "    return fit_method(estimator, *args, **kwargs)\n",
      "  File \"/Users/rudi/Documents/pacmann/ML API/machine-learning-process/.venv/lib/python3.9/site-packages/sklearn/linear_model/_logistic.py\", line 1193, in fit\n",
      "    solver = _check_solver(self.solver, self.penalty, self.dual)\n",
      "  File \"/Users/rudi/Documents/pacmann/ML API/machine-learning-process/.venv/lib/python3.9/site-packages/sklearn/linear_model/_logistic.py\", line 63, in _check_solver\n",
      "    raise ValueError(\n",
      "ValueError: Solver lbfgs supports only 'l2' or None penalties, got l1 penalty.\n",
      "\n",
      "--------------------------------------------------------------------------------\n",
      "45 fits failed with the following error:\n",
      "Traceback (most recent call last):\n",
      "  File \"/Users/rudi/Documents/pacmann/ML API/machine-learning-process/.venv/lib/python3.9/site-packages/sklearn/model_selection/_validation.py\", line 866, in _fit_and_score\n",
      "    estimator.fit(X_train, y_train, **fit_params)\n",
      "  File \"/Users/rudi/Documents/pacmann/ML API/machine-learning-process/.venv/lib/python3.9/site-packages/sklearn/base.py\", line 1389, in wrapper\n",
      "    return fit_method(estimator, *args, **kwargs)\n",
      "  File \"/Users/rudi/Documents/pacmann/ML API/machine-learning-process/.venv/lib/python3.9/site-packages/sklearn/linear_model/_logistic.py\", line 1193, in fit\n",
      "    solver = _check_solver(self.solver, self.penalty, self.dual)\n",
      "  File \"/Users/rudi/Documents/pacmann/ML API/machine-learning-process/.venv/lib/python3.9/site-packages/sklearn/linear_model/_logistic.py\", line 63, in _check_solver\n",
      "    raise ValueError(\n",
      "ValueError: Solver newton-cg supports only 'l2' or None penalties, got l1 penalty.\n",
      "\n",
      "--------------------------------------------------------------------------------\n",
      "35 fits failed with the following error:\n",
      "Traceback (most recent call last):\n",
      "  File \"/Users/rudi/Documents/pacmann/ML API/machine-learning-process/.venv/lib/python3.9/site-packages/sklearn/model_selection/_validation.py\", line 866, in _fit_and_score\n",
      "    estimator.fit(X_train, y_train, **fit_params)\n",
      "  File \"/Users/rudi/Documents/pacmann/ML API/machine-learning-process/.venv/lib/python3.9/site-packages/sklearn/base.py\", line 1389, in wrapper\n",
      "    return fit_method(estimator, *args, **kwargs)\n",
      "  File \"/Users/rudi/Documents/pacmann/ML API/machine-learning-process/.venv/lib/python3.9/site-packages/sklearn/linear_model/_logistic.py\", line 1193, in fit\n",
      "    solver = _check_solver(self.solver, self.penalty, self.dual)\n",
      "  File \"/Users/rudi/Documents/pacmann/ML API/machine-learning-process/.venv/lib/python3.9/site-packages/sklearn/linear_model/_logistic.py\", line 63, in _check_solver\n",
      "    raise ValueError(\n",
      "ValueError: Solver lbfgs supports only 'l2' or None penalties, got elasticnet penalty.\n",
      "\n",
      "  warnings.warn(some_fits_failed_message, FitFailedWarning)\n",
      "/Users/rudi/Documents/pacmann/ML API/machine-learning-process/.venv/lib/python3.9/site-packages/sklearn/model_selection/_search.py:1107: UserWarning: One or more of the test scores are non-finite: [       nan 0.81175354        nan 0.81049635 0.81160445 0.29997537\n",
      " 0.81169263 0.80693026        nan 0.80129682        nan        nan\n",
      "        nan 0.81175354        nan        nan        nan        nan\n",
      " 0.81236428 0.81161181 0.81179576 0.81175354 0.81173486 0.81169263\n",
      "        nan        nan 0.80773673        nan 0.81173486        nan\n",
      " 0.81169263 0.81181478        nan        nan        nan        nan\n",
      "        nan        nan        nan        nan 0.81173486        nan\n",
      "        nan 0.81143134 0.81178997 0.81169263        nan        nan\n",
      " 0.81174419        nan]\n",
      "  warnings.warn(\n"
     ]
    }
   ],
   "execution_count": 6
  },
  {
   "metadata": {
    "ExecuteTime": {
     "end_time": "2025-01-05T08:55:12.000345Z",
     "start_time": "2025-01-05T08:55:11.991119Z"
    }
   },
   "cell_type": "code",
   "source": [
    "from src.utils import serialize_data\n",
    "\n",
    "\n",
    "serialize_data(logreg_base, \"models/logreg_base.pkl\")\n",
    "serialize_data(svm_base, \"models/svm_base.pkl\")"
   ],
   "id": "7abfb153abffe6e7",
   "outputs": [],
   "execution_count": 7
  },
  {
   "metadata": {
    "ExecuteTime": {
     "end_time": "2025-01-05T08:55:12.532704Z",
     "start_time": "2025-01-05T08:55:12.530020Z"
    }
   },
   "cell_type": "code",
   "source": [
    "logreg_estimator = logreg_base.best_estimator_\n",
    "svm_estimator = svm_base.best_estimator_"
   ],
   "id": "fab4906a5f9eab49",
   "outputs": [],
   "execution_count": 8
  },
  {
   "metadata": {
    "ExecuteTime": {
     "end_time": "2025-01-05T08:55:13.076645Z",
     "start_time": "2025-01-05T08:55:13.069368Z"
    }
   },
   "cell_type": "code",
   "source": [
    "import numpy as np\n",
    "from matplotlib import pyplot as plt\n",
    "from sklearn.metrics import precision_score\n",
    "\n",
    "\n",
    "def tune_threshold(model, x_data, y_data):\n",
    "    model_name = model.__class__.__name__\n",
    "    y_probabilities = model.predict_proba(x_data)[:, 1]\n",
    "\n",
    "    scores = []\n",
    "    thresholds = []\n",
    "\n",
    "    for threshold in np.linspace(0, 1, 100):\n",
    "        y_predictions = (y_probabilities >= threshold).astype(int)\n",
    "\n",
    "        score = precision_score(y_data, y_predictions, zero_division=0)\n",
    "\n",
    "        scores.append(score)\n",
    "        thresholds.append(threshold)\n",
    "\n",
    "    calculated_thresholds = {\n",
    "        'model': model_name,\n",
    "        'metric': 'precision',\n",
    "        'thresholds': thresholds,\n",
    "        'scores': scores,\n",
    "    }\n",
    "\n",
    "    plt.figure(figsize=(12, 8))\n",
    "    plt.title(f'Precision Scores for {model}')\n",
    "    plt.plot(thresholds, scores, label='Precision Scores')\n",
    "    plt.xlabel('Threshold')\n",
    "    plt.ylabel('Precision Score')\n",
    "    plt.legend()\n",
    "    plt.grid()\n",
    "    plt.show()\n",
    "\n",
    "    return calculated_thresholds\n"
   ],
   "id": "7164701aec8159a5",
   "outputs": [],
   "execution_count": 9
  },
  {
   "metadata": {
    "ExecuteTime": {
     "end_time": "2025-01-05T08:55:14.698569Z",
     "start_time": "2025-01-05T08:55:14.305780Z"
    }
   },
   "cell_type": "code",
   "source": [
    "logreg_threshold = tune_threshold(logreg_estimator, X_valid, y_valid)\n",
    "svm_threshold = tune_threshold(svm_estimator, X_test, y_test)"
   ],
   "id": "d995f00c368ec067",
   "outputs": [
    {
     "data": {
      "text/plain": [
       "<Figure size 1200x800 with 1 Axes>"
      ],
      "image/png": "[encoded data removed]"
     },
     "metadata": {},
     "output_type": "display_data"
    }
   ],
   "execution_count": 10
  },
  {
   "metadata": {
    "ExecuteTime": {
     "end_time": "2025-01-05T08:55:19.290858Z",
     "start_time": "2025-01-05T08:55:19.287755Z"
    }
   },
   "cell_type": "code",
   "source": "threshold_list = [logreg_threshold, svm_threshold]",
   "id": "70b7ca7cef91fa30",
   "outputs": [],
   "execution_count": 11
  },
  {
   "metadata": {
    "ExecuteTime": {
     "end_time": "2025-01-05T08:55:20.190575Z",
     "start_time": "2025-01-05T08:55:20.182983Z"
    }
   },
   "cell_type": "code",
   "source": [
    "import json\n",
    "\n",
    "\n",
    "def calculate_best_threshold(thresholds):\n",
    "    best_threshold = thresholds.pop()\n",
    "    for threshold in thresholds:\n",
    "        if threshold['highest_score'] > best_threshold['highest_score']:\n",
    "            best_threshold = threshold\n",
    "\n",
    "    return best_threshold\n",
    "\n",
    "\n",
    "def get_best_threshold(thresholds, path):\n",
    "    calculated_threshold = []\n",
    "    for threshold in thresholds:\n",
    "        model = threshold['model']\n",
    "        metric = threshold['metric']\n",
    "        thresholds_ = threshold['thresholds']\n",
    "        scores = threshold['scores']\n",
    "\n",
    "        # find the best threshold from the highest score\n",
    "        highest_score = max(scores)\n",
    "        index_of_highest_score = scores.index(highest_score)\n",
    "        best_threshold_ = thresholds_[index_of_highest_score]\n",
    "\n",
    "        calculated_threshold.append({\n",
    "            'model': model,\n",
    "            'highest_score': highest_score,\n",
    "            'threshold': best_threshold_,\n",
    "            'metric': metric,\n",
    "        })\n",
    "\n",
    "    best_threshold = calculate_best_threshold(calculated_threshold)\n",
    "    with open(path, 'w') as f:\n",
    "        json.dump(best_threshold, f)\n",
    "\n",
    "    return best_threshold"
   ],
   "id": "8454c55b534e097e",
   "outputs": [],
   "execution_count": 12
  },
  {
   "metadata": {
    "ExecuteTime": {
     "end_time": "2025-01-05T08:55:21.299238Z",
     "start_time": "2025-01-05T08:55:21.294220Z"
    }
   },
   "cell_type": "code",
   "source": "best_threshold = get_best_threshold(threshold_list, \"models/best_threshold.json\")",
   "id": "44c149d8dd6eeb7f",
   "outputs": [],
   "execution_count": 13
  },
  {
   "metadata": {
    "ExecuteTime": {
     "end_time": "2025-01-05T08:55:22.200850Z",
     "start_time": "2025-01-05T08:55:22.195832Z"
    }
   },
   "cell_type": "code",
   "source": [
    "from sklearn.metrics import classification_report, precision_score\n",
    "\n",
    "def evaluate_model(model, threshold, x_data, y_data):\n",
    "    print(\"Best Threshold : \", threshold)\n",
    "\n",
    "    threshold = threshold['threshold']\n",
    "    y_predicted = (model.predict_proba(x_data)[:, 1] >= threshold).astype(int)\n",
    "\n",
    "    print(classification_report(y_data, y_predicted))\n"
   ],
   "id": "48fe9e41e144a9c8",
   "outputs": [],
   "execution_count": 14
  },
  {
   "metadata": {
    "ExecuteTime": {
     "end_time": "2025-01-05T08:55:23.337736Z",
     "start_time": "2025-01-05T08:55:23.323923Z"
    }
   },
   "cell_type": "code",
   "source": "evaluate_model(logreg_estimator, best_threshold, X_test, y_test)",
   "id": "804fb95e5b8168ee",
   "outputs": [
    {
     "name": "stdout",
     "output_type": "stream",
     "text": [
      "Best Threshold :  {'model': 'LogisticRegression', 'highest_score': 0.9565217391304348, 'threshold': np.float64(0.98989898989899), 'metric': 'precision'}\n",
      "              precision    recall  f1-score   support\n",
      "\n",
      "           0       0.77      1.00      0.87       998\n",
      "           1       1.00      0.05      0.09       306\n",
      "\n",
      "    accuracy                           0.78      1304\n",
      "   macro avg       0.89      0.52      0.48      1304\n",
      "weighted avg       0.83      0.78      0.69      1304\n",
      "\n"
     ]
    }
   ],
   "execution_count": 15
  },
  {
   "metadata": {},
   "cell_type": "code",
   "outputs": [],
   "execution_count": null,
   "source": "",
   "id": "71c37cdea76a7dc3"
  }
 ],
 "metadata": {
  "kernelspec": {
   "display_name": "Python 3",
   "language": "python",
   "name": "python3"
  },
  "language_info": {
   "codemirror_mode": {
    "name": "ipython",
    "version": 2
   },
   "file_extension": ".py",
   "mimetype": "text/x-python",
   "name": "python",
   "nbconvert_exporter": "python",
   "pygments_lexer": "ipython2",
   "version": "2.7.6"
  }
 },
 "nbformat": 4,
 "nbformat_minor": 5
}
