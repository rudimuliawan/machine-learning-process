{
 "cells": [
  {
   "cell_type": "code",
   "id": "initial_id",
   "metadata": {
    "collapsed": true,
    "ExecuteTime": {
     "end_time": "2025-01-05T06:44:24.479112Z",
     "start_time": "2025-01-05T06:44:24.476454Z"
    }
   },
   "source": [
    "import numpy as np\n",
    "from sklearn.dummy import DummyClassifier\n",
    "from sklearn.metrics import make_scorer, precision_score\n",
    "from sklearn.linear_model import LogisticRegression\n",
    "from sklearn.model_selection import RandomizedSearchCV, StratifiedKFold"
   ],
   "outputs": [],
   "execution_count": 10
  },
  {
   "metadata": {
    "ExecuteTime": {
     "end_time": "2025-01-05T06:44:25.358103Z",
     "start_time": "2025-01-05T06:44:25.353395Z"
    }
   },
   "cell_type": "code",
   "source": [
    "logreg_param_grid = {\n",
    "    'penalty':['l1', 'l2', 'elasticnet', 'none'],\n",
    "    'C' : np.logspace(-4, 4, 20),\n",
    "    'solver': ['lbfgs', 'newton-cg', 'liblinear', 'sag', 'saga'],\n",
    "    'max_iter'  : [100, 1000, 2500, 5000]\n",
    "}\n"
   ],
   "id": "6d880f21e3eefe75",
   "outputs": [],
   "execution_count": 11
  },
  {
   "metadata": {
    "ExecuteTime": {
     "end_time": "2025-01-05T06:44:26.063844Z",
     "start_time": "2025-01-05T06:44:26.040975Z"
    }
   },
   "cell_type": "code",
   "source": [
    "from src.utils import deserialize_data\n",
    "\n",
    "X_train = deserialize_data(\"data/processed/X_train_ros.pkl\")\n",
    "y_train = deserialize_data(\"data/processed/y_train_ros.pkl\")\n",
    "\n",
    "X_valid = deserialize_data(\"data/processed/X_valid_prep.pkl\")\n",
    "y_valid = deserialize_data(\"data/interim/y_valid.pkl\")\n",
    "\n",
    "X_test = deserialize_data(\"data/processed/X_test_prep.pkl\")\n",
    "y_test = deserialize_data(\"data/interim/y_test.pkl\")"
   ],
   "id": "ffd6bef4540c10f8",
   "outputs": [],
   "execution_count": 12
  },
  {
   "metadata": {
    "ExecuteTime": {
     "end_time": "2025-01-05T06:44:27.020952Z",
     "start_time": "2025-01-05T06:44:27.017448Z"
    }
   },
   "cell_type": "code",
   "source": [
    "dummy_model = DummyClassifier()\n",
    "logreg_model = LogisticRegression()"
   ],
   "id": "c7efb723c3b5a835",
   "outputs": [],
   "execution_count": 13
  },
  {
   "metadata": {
    "ExecuteTime": {
     "end_time": "2025-01-05T06:45:20.712350Z",
     "start_time": "2025-01-05T06:45:20.707378Z"
    }
   },
   "cell_type": "code",
   "source": [
    "def train_model(model, hyperparameters, X_train, y_train):\n",
    "    \"\"\"\n",
    "    Trains the model with hyperparameters and returns the trained model.\n",
    "\n",
    "    Parameters\n",
    "    -----------\n",
    "    model : Scikit's model\n",
    "\n",
    "    hyperparameters : dict\n",
    "        hyperparameters required by GridSearchCV\n",
    "\n",
    "    X_train: dataframe\n",
    "    \t\tdataset's features for traing\n",
    "\n",
    "    y_train: dataframe\n",
    "    \t\tdataset's label for training\n",
    "\n",
    "    Returns\n",
    "    -------\n",
    "    base : RandomizedSearchCV\n",
    "    \tan RandomizedSearchCV object\n",
    "    \"\"\"\n",
    "    k_fold = StratifiedKFold(n_splits=5, shuffle=True, random_state=50)\n",
    "    base = RandomizedSearchCV(\n",
    "        estimator=model, param_distributions=hyperparameters,\n",
    "        n_iter=50, scoring=make_scorer(precision_score, zero_division=0),\n",
    "        n_jobs=-1, verbose=3, cv=k_fold, refit='precision',\n",
    "    )\n",
    "\n",
    "    base.fit(X_train, y_train)\n",
    "\n",
    "    return base"
   ],
   "id": "9b03e7775d81782b",
   "outputs": [],
   "execution_count": 20
  },
  {
   "metadata": {
    "ExecuteTime": {
     "end_time": "2025-01-05T06:45:27.723833Z",
     "start_time": "2025-01-05T06:45:21.935112Z"
    }
   },
   "cell_type": "code",
   "source": "logreg_base = train_model(logreg_model, logreg_param_grid, X_train, y_train)",
   "id": "fae4eac033b62b52",
   "outputs": [
    {
     "name": "stderr",
     "output_type": "stream",
     "text": [
      "/Users/rudi/Documents/pacmann/ML API/machine-learning-process/.venv/lib/python3.9/site-packages/sklearn/model_selection/_search.py:317: UserWarning: The total space of parameters 1 is smaller than n_iter=50. Running 1 iterations. For exhaustive searches, use GridSearchCV.\n",
      "  warnings.warn(\n"
     ]
    },
    {
     "name": "stdout",
     "output_type": "stream",
     "text": [
      "Fitting 5 folds for each of 1 candidates, totalling 5 fits\n",
      "Fitting 5 folds for each of 50 candidates, totalling 250 fits\n"
     ]
    },
    {
     "name": "stderr",
     "output_type": "stream",
     "text": [
      "/Users/rudi/Documents/pacmann/ML API/machine-learning-process/.venv/lib/python3.9/site-packages/sklearn/model_selection/_validation.py:528: FitFailedWarning: \n",
      "180 fits failed out of a total of 250.\n",
      "The score on these train-test partitions for these parameters will be set to nan.\n",
      "If these failures are not expected, you can try to debug them by setting error_score='raise'.\n",
      "\n",
      "Below are more details about the failures:\n",
      "--------------------------------------------------------------------------------\n",
      "5 fits failed with the following error:\n",
      "Traceback (most recent call last):\n",
      "  File \"/Users/rudi/Documents/pacmann/ML API/machine-learning-process/.venv/lib/python3.9/site-packages/sklearn/model_selection/_validation.py\", line 866, in _fit_and_score\n",
      "    estimator.fit(X_train, y_train, **fit_params)\n",
      "  File \"/Users/rudi/Documents/pacmann/ML API/machine-learning-process/.venv/lib/python3.9/site-packages/sklearn/base.py\", line 1389, in wrapper\n",
      "    return fit_method(estimator, *args, **kwargs)\n",
      "  File \"/Users/rudi/Documents/pacmann/ML API/machine-learning-process/.venv/lib/python3.9/site-packages/sklearn/linear_model/_logistic.py\", line 1203, in fit\n",
      "    raise ValueError(\"l1_ratio must be specified when penalty is elasticnet.\")\n",
      "ValueError: l1_ratio must be specified when penalty is elasticnet.\n",
      "\n",
      "--------------------------------------------------------------------------------\n",
      "10 fits failed with the following error:\n",
      "Traceback (most recent call last):\n",
      "  File \"/Users/rudi/Documents/pacmann/ML API/machine-learning-process/.venv/lib/python3.9/site-packages/sklearn/model_selection/_validation.py\", line 866, in _fit_and_score\n",
      "    estimator.fit(X_train, y_train, **fit_params)\n",
      "  File \"/Users/rudi/Documents/pacmann/ML API/machine-learning-process/.venv/lib/python3.9/site-packages/sklearn/base.py\", line 1389, in wrapper\n",
      "    return fit_method(estimator, *args, **kwargs)\n",
      "  File \"/Users/rudi/Documents/pacmann/ML API/machine-learning-process/.venv/lib/python3.9/site-packages/sklearn/linear_model/_logistic.py\", line 1193, in fit\n",
      "    solver = _check_solver(self.solver, self.penalty, self.dual)\n",
      "  File \"/Users/rudi/Documents/pacmann/ML API/machine-learning-process/.venv/lib/python3.9/site-packages/sklearn/linear_model/_logistic.py\", line 63, in _check_solver\n",
      "    raise ValueError(\n",
      "ValueError: Solver lbfgs supports only 'l2' or None penalties, got l1 penalty.\n",
      "\n",
      "--------------------------------------------------------------------------------\n",
      "30 fits failed with the following error:\n",
      "Traceback (most recent call last):\n",
      "  File \"/Users/rudi/Documents/pacmann/ML API/machine-learning-process/.venv/lib/python3.9/site-packages/sklearn/model_selection/_validation.py\", line 866, in _fit_and_score\n",
      "    estimator.fit(X_train, y_train, **fit_params)\n",
      "  File \"/Users/rudi/Documents/pacmann/ML API/machine-learning-process/.venv/lib/python3.9/site-packages/sklearn/base.py\", line 1382, in wrapper\n",
      "    estimator._validate_params()\n",
      "  File \"/Users/rudi/Documents/pacmann/ML API/machine-learning-process/.venv/lib/python3.9/site-packages/sklearn/base.py\", line 436, in _validate_params\n",
      "    validate_parameter_constraints(\n",
      "  File \"/Users/rudi/Documents/pacmann/ML API/machine-learning-process/.venv/lib/python3.9/site-packages/sklearn/utils/_param_validation.py\", line 98, in validate_parameter_constraints\n",
      "    raise InvalidParameterError(\n",
      "sklearn.utils._param_validation.InvalidParameterError: The 'penalty' parameter of LogisticRegression must be a str among {'elasticnet', 'l2', 'l1'} or None. Got 'none' instead.\n",
      "\n",
      "--------------------------------------------------------------------------------\n",
      "20 fits failed with the following error:\n",
      "Traceback (most recent call last):\n",
      "  File \"/Users/rudi/Documents/pacmann/ML API/machine-learning-process/.venv/lib/python3.9/site-packages/sklearn/model_selection/_validation.py\", line 866, in _fit_and_score\n",
      "    estimator.fit(X_train, y_train, **fit_params)\n",
      "  File \"/Users/rudi/Documents/pacmann/ML API/machine-learning-process/.venv/lib/python3.9/site-packages/sklearn/base.py\", line 1382, in wrapper\n",
      "    estimator._validate_params()\n",
      "  File \"/Users/rudi/Documents/pacmann/ML API/machine-learning-process/.venv/lib/python3.9/site-packages/sklearn/base.py\", line 436, in _validate_params\n",
      "    validate_parameter_constraints(\n",
      "  File \"/Users/rudi/Documents/pacmann/ML API/machine-learning-process/.venv/lib/python3.9/site-packages/sklearn/utils/_param_validation.py\", line 98, in validate_parameter_constraints\n",
      "    raise InvalidParameterError(\n",
      "sklearn.utils._param_validation.InvalidParameterError: The 'penalty' parameter of LogisticRegression must be a str among {'l1', 'elasticnet', 'l2'} or None. Got 'none' instead.\n",
      "\n",
      "--------------------------------------------------------------------------------\n",
      "6 fits failed with the following error:\n",
      "Traceback (most recent call last):\n",
      "  File \"/Users/rudi/Documents/pacmann/ML API/machine-learning-process/.venv/lib/python3.9/site-packages/sklearn/model_selection/_validation.py\", line 866, in _fit_and_score\n",
      "    estimator.fit(X_train, y_train, **fit_params)\n",
      "  File \"/Users/rudi/Documents/pacmann/ML API/machine-learning-process/.venv/lib/python3.9/site-packages/sklearn/base.py\", line 1382, in wrapper\n",
      "    estimator._validate_params()\n",
      "  File \"/Users/rudi/Documents/pacmann/ML API/machine-learning-process/.venv/lib/python3.9/site-packages/sklearn/base.py\", line 436, in _validate_params\n",
      "    validate_parameter_constraints(\n",
      "  File \"/Users/rudi/Documents/pacmann/ML API/machine-learning-process/.venv/lib/python3.9/site-packages/sklearn/utils/_param_validation.py\", line 98, in validate_parameter_constraints\n",
      "    raise InvalidParameterError(\n",
      "sklearn.utils._param_validation.InvalidParameterError: The 'penalty' parameter of LogisticRegression must be a str among {'l2', 'l1', 'elasticnet'} or None. Got 'none' instead.\n",
      "\n",
      "--------------------------------------------------------------------------------\n",
      "20 fits failed with the following error:\n",
      "Traceback (most recent call last):\n",
      "  File \"/Users/rudi/Documents/pacmann/ML API/machine-learning-process/.venv/lib/python3.9/site-packages/sklearn/model_selection/_validation.py\", line 866, in _fit_and_score\n",
      "    estimator.fit(X_train, y_train, **fit_params)\n",
      "  File \"/Users/rudi/Documents/pacmann/ML API/machine-learning-process/.venv/lib/python3.9/site-packages/sklearn/base.py\", line 1389, in wrapper\n",
      "    return fit_method(estimator, *args, **kwargs)\n",
      "  File \"/Users/rudi/Documents/pacmann/ML API/machine-learning-process/.venv/lib/python3.9/site-packages/sklearn/linear_model/_logistic.py\", line 1193, in fit\n",
      "    solver = _check_solver(self.solver, self.penalty, self.dual)\n",
      "  File \"/Users/rudi/Documents/pacmann/ML API/machine-learning-process/.venv/lib/python3.9/site-packages/sklearn/linear_model/_logistic.py\", line 71, in _check_solver\n",
      "    raise ValueError(\n",
      "ValueError: Only 'saga' solver supports elasticnet penalty, got solver=liblinear.\n",
      "\n",
      "--------------------------------------------------------------------------------\n",
      "25 fits failed with the following error:\n",
      "Traceback (most recent call last):\n",
      "  File \"/Users/rudi/Documents/pacmann/ML API/machine-learning-process/.venv/lib/python3.9/site-packages/sklearn/model_selection/_validation.py\", line 866, in _fit_and_score\n",
      "    estimator.fit(X_train, y_train, **fit_params)\n",
      "  File \"/Users/rudi/Documents/pacmann/ML API/machine-learning-process/.venv/lib/python3.9/site-packages/sklearn/base.py\", line 1389, in wrapper\n",
      "    return fit_method(estimator, *args, **kwargs)\n",
      "  File \"/Users/rudi/Documents/pacmann/ML API/machine-learning-process/.venv/lib/python3.9/site-packages/sklearn/linear_model/_logistic.py\", line 1193, in fit\n",
      "    solver = _check_solver(self.solver, self.penalty, self.dual)\n",
      "  File \"/Users/rudi/Documents/pacmann/ML API/machine-learning-process/.venv/lib/python3.9/site-packages/sklearn/linear_model/_logistic.py\", line 63, in _check_solver\n",
      "    raise ValueError(\n",
      "ValueError: Solver lbfgs supports only 'l2' or None penalties, got elasticnet penalty.\n",
      "\n",
      "--------------------------------------------------------------------------------\n",
      "15 fits failed with the following error:\n",
      "Traceback (most recent call last):\n",
      "  File \"/Users/rudi/Documents/pacmann/ML API/machine-learning-process/.venv/lib/python3.9/site-packages/sklearn/model_selection/_validation.py\", line 866, in _fit_and_score\n",
      "    estimator.fit(X_train, y_train, **fit_params)\n",
      "  File \"/Users/rudi/Documents/pacmann/ML API/machine-learning-process/.venv/lib/python3.9/site-packages/sklearn/base.py\", line 1389, in wrapper\n",
      "    return fit_method(estimator, *args, **kwargs)\n",
      "  File \"/Users/rudi/Documents/pacmann/ML API/machine-learning-process/.venv/lib/python3.9/site-packages/sklearn/linear_model/_logistic.py\", line 1193, in fit\n",
      "    solver = _check_solver(self.solver, self.penalty, self.dual)\n",
      "  File \"/Users/rudi/Documents/pacmann/ML API/machine-learning-process/.venv/lib/python3.9/site-packages/sklearn/linear_model/_logistic.py\", line 63, in _check_solver\n",
      "    raise ValueError(\n",
      "ValueError: Solver newton-cg supports only 'l2' or None penalties, got l1 penalty.\n",
      "\n",
      "--------------------------------------------------------------------------------\n",
      "4 fits failed with the following error:\n",
      "Traceback (most recent call last):\n",
      "  File \"/Users/rudi/Documents/pacmann/ML API/machine-learning-process/.venv/lib/python3.9/site-packages/sklearn/model_selection/_validation.py\", line 866, in _fit_and_score\n",
      "    estimator.fit(X_train, y_train, **fit_params)\n",
      "  File \"/Users/rudi/Documents/pacmann/ML API/machine-learning-process/.venv/lib/python3.9/site-packages/sklearn/base.py\", line 1382, in wrapper\n",
      "    estimator._validate_params()\n",
      "  File \"/Users/rudi/Documents/pacmann/ML API/machine-learning-process/.venv/lib/python3.9/site-packages/sklearn/base.py\", line 436, in _validate_params\n",
      "    validate_parameter_constraints(\n",
      "  File \"/Users/rudi/Documents/pacmann/ML API/machine-learning-process/.venv/lib/python3.9/site-packages/sklearn/utils/_param_validation.py\", line 98, in validate_parameter_constraints\n",
      "    raise InvalidParameterError(\n",
      "sklearn.utils._param_validation.InvalidParameterError: The 'penalty' parameter of LogisticRegression must be a str among {'l1', 'l2', 'elasticnet'} or None. Got 'none' instead.\n",
      "\n",
      "--------------------------------------------------------------------------------\n",
      "5 fits failed with the following error:\n",
      "Traceback (most recent call last):\n",
      "  File \"/Users/rudi/Documents/pacmann/ML API/machine-learning-process/.venv/lib/python3.9/site-packages/sklearn/model_selection/_validation.py\", line 866, in _fit_and_score\n",
      "    estimator.fit(X_train, y_train, **fit_params)\n",
      "  File \"/Users/rudi/Documents/pacmann/ML API/machine-learning-process/.venv/lib/python3.9/site-packages/sklearn/base.py\", line 1382, in wrapper\n",
      "    estimator._validate_params()\n",
      "  File \"/Users/rudi/Documents/pacmann/ML API/machine-learning-process/.venv/lib/python3.9/site-packages/sklearn/base.py\", line 436, in _validate_params\n",
      "    validate_parameter_constraints(\n",
      "  File \"/Users/rudi/Documents/pacmann/ML API/machine-learning-process/.venv/lib/python3.9/site-packages/sklearn/utils/_param_validation.py\", line 98, in validate_parameter_constraints\n",
      "    raise InvalidParameterError(\n",
      "sklearn.utils._param_validation.InvalidParameterError: The 'penalty' parameter of LogisticRegression must be a str among {'elasticnet', 'l1', 'l2'} or None. Got 'none' instead.\n",
      "\n",
      "--------------------------------------------------------------------------------\n",
      "15 fits failed with the following error:\n",
      "Traceback (most recent call last):\n",
      "  File \"/Users/rudi/Documents/pacmann/ML API/machine-learning-process/.venv/lib/python3.9/site-packages/sklearn/model_selection/_validation.py\", line 866, in _fit_and_score\n",
      "    estimator.fit(X_train, y_train, **fit_params)\n",
      "  File \"/Users/rudi/Documents/pacmann/ML API/machine-learning-process/.venv/lib/python3.9/site-packages/sklearn/base.py\", line 1389, in wrapper\n",
      "    return fit_method(estimator, *args, **kwargs)\n",
      "  File \"/Users/rudi/Documents/pacmann/ML API/machine-learning-process/.venv/lib/python3.9/site-packages/sklearn/linear_model/_logistic.py\", line 1193, in fit\n",
      "    solver = _check_solver(self.solver, self.penalty, self.dual)\n",
      "  File \"/Users/rudi/Documents/pacmann/ML API/machine-learning-process/.venv/lib/python3.9/site-packages/sklearn/linear_model/_logistic.py\", line 63, in _check_solver\n",
      "    raise ValueError(\n",
      "ValueError: Solver newton-cg supports only 'l2' or None penalties, got elasticnet penalty.\n",
      "\n",
      "--------------------------------------------------------------------------------\n",
      "20 fits failed with the following error:\n",
      "Traceback (most recent call last):\n",
      "  File \"/Users/rudi/Documents/pacmann/ML API/machine-learning-process/.venv/lib/python3.9/site-packages/sklearn/model_selection/_validation.py\", line 866, in _fit_and_score\n",
      "    estimator.fit(X_train, y_train, **fit_params)\n",
      "  File \"/Users/rudi/Documents/pacmann/ML API/machine-learning-process/.venv/lib/python3.9/site-packages/sklearn/base.py\", line 1389, in wrapper\n",
      "    return fit_method(estimator, *args, **kwargs)\n",
      "  File \"/Users/rudi/Documents/pacmann/ML API/machine-learning-process/.venv/lib/python3.9/site-packages/sklearn/linear_model/_logistic.py\", line 1193, in fit\n",
      "    solver = _check_solver(self.solver, self.penalty, self.dual)\n",
      "  File \"/Users/rudi/Documents/pacmann/ML API/machine-learning-process/.venv/lib/python3.9/site-packages/sklearn/linear_model/_logistic.py\", line 63, in _check_solver\n",
      "    raise ValueError(\n",
      "ValueError: Solver sag supports only 'l2' or None penalties, got l1 penalty.\n",
      "\n",
      "--------------------------------------------------------------------------------\n",
      "5 fits failed with the following error:\n",
      "Traceback (most recent call last):\n",
      "  File \"/Users/rudi/Documents/pacmann/ML API/machine-learning-process/.venv/lib/python3.9/site-packages/sklearn/model_selection/_validation.py\", line 866, in _fit_and_score\n",
      "    estimator.fit(X_train, y_train, **fit_params)\n",
      "  File \"/Users/rudi/Documents/pacmann/ML API/machine-learning-process/.venv/lib/python3.9/site-packages/sklearn/base.py\", line 1389, in wrapper\n",
      "    return fit_method(estimator, *args, **kwargs)\n",
      "  File \"/Users/rudi/Documents/pacmann/ML API/machine-learning-process/.venv/lib/python3.9/site-packages/sklearn/linear_model/_logistic.py\", line 1193, in fit\n",
      "    solver = _check_solver(self.solver, self.penalty, self.dual)\n",
      "  File \"/Users/rudi/Documents/pacmann/ML API/machine-learning-process/.venv/lib/python3.9/site-packages/sklearn/linear_model/_logistic.py\", line 63, in _check_solver\n",
      "    raise ValueError(\n",
      "ValueError: Solver sag supports only 'l2' or None penalties, got elasticnet penalty.\n",
      "\n",
      "  warnings.warn(some_fits_failed_message, FitFailedWarning)\n",
      "/Users/rudi/Documents/pacmann/ML API/machine-learning-process/.venv/lib/python3.9/site-packages/sklearn/model_selection/_search.py:1107: UserWarning: One or more of the test scores are non-finite: [0.81173486 0.81156808        nan        nan 0.81176961        nan\n",
      " 0.8114409         nan        nan        nan        nan        nan\n",
      "        nan        nan 0.79755403        nan        nan        nan\n",
      " 0.81172763        nan        nan        nan        nan        nan\n",
      "        nan 0.81169263 0.81173486 0.81169263        nan        nan\n",
      " 0.81164045        nan        nan 0.81143134        nan        nan\n",
      "        nan 0.81169263        nan        nan        nan        nan\n",
      "        nan        nan        nan        nan 0.81165063 0.81160946\n",
      "        nan        nan]\n",
      "  warnings.warn(\n"
     ]
    }
   ],
   "execution_count": 21
  },
  {
   "metadata": {
    "ExecuteTime": {
     "end_time": "2025-01-05T06:45:29.272452Z",
     "start_time": "2025-01-05T06:45:29.259385Z"
    }
   },
   "cell_type": "code",
   "source": [
    "from src.utils import serialize_data\n",
    "\n",
    "\n",
    "serialize_data(logreg_base, \"models/logreg_base.pkl\")"
   ],
   "id": "7abfb153abffe6e7",
   "outputs": [],
   "execution_count": 22
  },
  {
   "metadata": {
    "ExecuteTime": {
     "end_time": "2025-01-05T06:45:31.378379Z",
     "start_time": "2025-01-05T06:45:31.374687Z"
    }
   },
   "cell_type": "code",
   "source": "logreg_estimator = logreg_base.best_estimator_",
   "id": "fab4906a5f9eab49",
   "outputs": [],
   "execution_count": 23
  },
  {
   "metadata": {
    "ExecuteTime": {
     "end_time": "2025-01-05T06:45:32.336073Z",
     "start_time": "2025-01-05T06:45:32.330528Z"
    }
   },
   "cell_type": "code",
   "source": [
    "import numpy as np\n",
    "from matplotlib import pyplot as plt\n",
    "from sklearn.metrics import precision_score\n",
    "\n",
    "\n",
    "def tune_threshold(model, x_data, y_data):\n",
    "    model_name = model.__class__.__name__\n",
    "    y_probabilities = model.predict_proba(x_data)[:, 1]\n",
    "\n",
    "    scores = []\n",
    "    thresholds = []\n",
    "\n",
    "    for threshold in np.linspace(0, 1, 100):\n",
    "        y_predictions = (y_probabilities >= threshold).astype(int)\n",
    "\n",
    "        score = precision_score(y_data, y_predictions, zero_division=0)\n",
    "\n",
    "        scores.append(score)\n",
    "        thresholds.append(threshold)\n",
    "\n",
    "    calculated_thresholds = {\n",
    "        'model': model_name,\n",
    "        'metric': 'precision',\n",
    "        'thresholds': thresholds,\n",
    "        'scores': scores,\n",
    "    }\n",
    "\n",
    "    plt.figure(figsize=(12, 8))\n",
    "    plt.title(f'Precision Scores for {model}')\n",
    "    plt.plot(thresholds, scores, label='Precision Scores')\n",
    "    plt.xlabel('Threshold')\n",
    "    plt.ylabel('Precision Score')\n",
    "    plt.legend()\n",
    "    plt.grid()\n",
    "    plt.show()\n",
    "\n",
    "    return calculated_thresholds\n"
   ],
   "id": "7164701aec8159a5",
   "outputs": [],
   "execution_count": 24
  },
  {
   "metadata": {
    "ExecuteTime": {
     "end_time": "2025-01-05T06:51:11.750118Z",
     "start_time": "2025-01-05T06:51:11.427422Z"
    }
   },
   "cell_type": "code",
   "source": [
    "# dummy_threshold = tune_threshold(dummy_model, X_valid, y_valid)\n",
    "logreg_threshold = tune_threshold(logreg_estimator, X_valid, y_valid)"
   ],
   "id": "d995f00c368ec067",
   "outputs": [
    {
     "data": {
      "text/plain": [
       "<Figure size 1200x800 with 1 Axes>"
      ],
      "image/png": "[encoded data removed]"
     },
     "metadata": {},
     "output_type": "display_data"
    }
   ],
   "execution_count": 28
  },
  {
   "metadata": {
    "ExecuteTime": {
     "end_time": "2025-01-05T06:51:13.366026Z",
     "start_time": "2025-01-05T06:51:13.362354Z"
    }
   },
   "cell_type": "code",
   "source": "threshold_list = [logreg_threshold]",
   "id": "70b7ca7cef91fa30",
   "outputs": [],
   "execution_count": 29
  },
  {
   "metadata": {
    "ExecuteTime": {
     "end_time": "2025-01-05T07:23:38.311015Z",
     "start_time": "2025-01-05T07:23:38.303291Z"
    }
   },
   "cell_type": "code",
   "source": [
    "import json\n",
    "\n",
    "\n",
    "def calculate_best_threshold(thresholds):\n",
    "    best_threshold = thresholds.pop()\n",
    "    for threshold in thresholds:\n",
    "        if threshold['highest_score'] > best_threshold['highest_score']:\n",
    "            best_threshold = threshold\n",
    "\n",
    "    return best_threshold\n",
    "\n",
    "\n",
    "def get_best_threshold(thresholds, path):\n",
    "    calculated_threshold = []\n",
    "    for threshold in thresholds:\n",
    "        model = threshold['model']\n",
    "        metric = threshold['metric']\n",
    "        thresholds_ = threshold['thresholds']\n",
    "        scores = threshold['scores']\n",
    "\n",
    "        # find the best threshold from the highest score\n",
    "        highest_score = max(scores)\n",
    "        index_of_highest_score = scores.index(highest_score)\n",
    "        best_threshold_ = thresholds_[index_of_highest_score]\n",
    "\n",
    "        calculated_threshold.append({\n",
    "            'model': model,\n",
    "            'highest_score': highest_score,\n",
    "            'threshold': best_threshold_,\n",
    "            'metric': metric,\n",
    "        })\n",
    "\n",
    "    best_threshold = calculate_best_threshold(calculated_threshold)\n",
    "    with open(path, 'w') as f:\n",
    "        json.dump(best_threshold, f)\n",
    "\n",
    "    return best_threshold"
   ],
   "id": "8454c55b534e097e",
   "outputs": [],
   "execution_count": 46
  },
  {
   "metadata": {
    "ExecuteTime": {
     "end_time": "2025-01-05T07:23:38.976335Z",
     "start_time": "2025-01-05T07:23:38.971809Z"
    }
   },
   "cell_type": "code",
   "source": "best_threshold = get_best_threshold(threshold_list, \"models/best_threshold.json\")",
   "id": "44c149d8dd6eeb7f",
   "outputs": [],
   "execution_count": 47
  },
  {
   "metadata": {
    "ExecuteTime": {
     "end_time": "2025-01-05T07:25:02.887990Z",
     "start_time": "2025-01-05T07:25:02.884892Z"
    }
   },
   "cell_type": "code",
   "source": [
    "from sklearn.metrics import classification_report, precision_score\n",
    "\n",
    "def evaluate_model(model, threshold, x_data, y_data):\n",
    "    print(\"Best Threshold : \", threshold)\n",
    "\n",
    "    threshold = threshold['threshold']\n",
    "    y_predicted = (model.predict_proba(x_data)[:, 1] >= threshold).astype(int)\n",
    "\n",
    "    print(classification_report(y_data, y_predicted))\n"
   ],
   "id": "48fe9e41e144a9c8",
   "outputs": [],
   "execution_count": 56
  },
  {
   "metadata": {
    "ExecuteTime": {
     "end_time": "2025-01-05T07:25:03.370847Z",
     "start_time": "2025-01-05T07:25:03.361881Z"
    }
   },
   "cell_type": "code",
   "source": "evaluate_model(logreg_estimator, best_threshold, X_test, y_test)",
   "id": "804fb95e5b8168ee",
   "outputs": [
    {
     "name": "stdout",
     "output_type": "stream",
     "text": [
      "Best Threshold :  {'model': 'LogisticRegression', 'highest_score': 0.9583333333333334, 'threshold': np.float64(0.98989898989899), 'metric': 'precision'}\n",
      "              precision    recall  f1-score   support\n",
      "\n",
      "           0       0.77      1.00      0.87       998\n",
      "           1       1.00      0.05      0.09       306\n",
      "\n",
      "    accuracy                           0.78      1304\n",
      "   macro avg       0.89      0.52      0.48      1304\n",
      "weighted avg       0.83      0.78      0.69      1304\n",
      "\n"
     ]
    }
   ],
   "execution_count": 57
  },
  {
   "metadata": {},
   "cell_type": "code",
   "outputs": [],
   "execution_count": null,
   "source": "",
   "id": "71c37cdea76a7dc3"
  }
 ],
 "metadata": {
  "kernelspec": {
   "display_name": "Python 3",
   "language": "python",
   "name": "python3"
  },
  "language_info": {
   "codemirror_mode": {
    "name": "ipython",
    "version": 2
   },
   "file_extension": ".py",
   "mimetype": "text/x-python",
   "name": "python",
   "nbconvert_exporter": "python",
   "pygments_lexer": "ipython2",
   "version": "2.7.6"
  }
 },
 "nbformat": 4,
 "nbformat_minor": 5
}
